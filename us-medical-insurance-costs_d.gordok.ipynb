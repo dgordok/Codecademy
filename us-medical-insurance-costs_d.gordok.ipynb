{
 "cells": [
  {
   "cell_type": "markdown",
   "metadata": {},
   "source": [
    "# U.S. Medical Insurance Costs\n",
    "\n",
    "In this project, a CSV file with medical insurance costs will be investigated using Python fundamentals. The goal of this project is to analyze the data focusing on the regions available in the dataset. The regions will be compared on the medical insurance costs data and demographic information available."
   ]
  },
  {
   "cell_type": "markdown",
   "metadata": {},
   "source": [
    "## 1. Preparation of data and collection of basic information about the sample"
   ]
  },
  {
   "cell_type": "markdown",
   "metadata": {},
   "source": [
    "The first step is to import csv library and load the data from the **insurance.csv** file for further analysis. \n",
    "\n",
    "The data will be stored in a list called `insurance_data`, which contains each observation as a dictionary with the keys extracted from the first row of the csv file. \n",
    "\n",
    "Since the focus of the project is regions, a list called `list_regions` will also be created. This list contains only the names of the regions in the dataset and will be needed for one of the next steps."
   ]
  },
  {
   "cell_type": "code",
   "execution_count": 1,
   "metadata": {},
   "outputs": [
    {
     "name": "stdout",
     "output_type": "stream",
     "text": [
      "{'age': '18', 'sex': 'male', 'bmi': '33.77', 'children': '1', 'smoker': 'no', 'region': 'southeast', 'charges': '1725.5523'} ['southwest', 'southeast', 'southeast', 'northwest', 'northwest']\n"
     ]
    }
   ],
   "source": [
    "# import csv library\n",
    "import csv\n",
    "\n",
    "# open the csv file and load the data into two lists\n",
    "insurance_data = []\n",
    "list_regions = []\n",
    "\n",
    "with open('insurance.csv') as csv_file:\n",
    "    csv_dict = csv.DictReader(csv_file)\n",
    "    for row in csv_dict:\n",
    "        insurance_data.append(row)\n",
    "        list_regions.append(row['region'])\n",
    "\n",
    "# print the first observation in the insurance_data list & first five values in the list_regions (the lists are large, no need to print all the data).\n",
    "print(insurance_data[1], list_regions[:5])"
   ]
  },
  {
   "cell_type": "markdown",
   "metadata": {},
   "source": [
    "The numeric values in the `insurance_data` list were loaded as strings. For further calculations, it's necessary to update the list and to convert the values of `'age'` and `'children'` into **int** format, and the values of `'bmi'` and `'charges'` into **float** format."
   ]
  },
  {
   "cell_type": "code",
   "execution_count": 2,
   "metadata": {},
   "outputs": [
    {
     "name": "stdout",
     "output_type": "stream",
     "text": [
      "{'age': 18, 'sex': 'male', 'bmi': 33.77, 'children': 1, 'smoker': 'no', 'region': 'southeast', 'charges': 1725.5523}\n"
     ]
    }
   ],
   "source": [
    "# convert the values in the insurance_data list\n",
    "for row in insurance_data:\n",
    "    row['age'] = int(row['age'])\n",
    "    row['bmi'] = float(row['bmi'])\n",
    "    row['children'] = int(row['children'])\n",
    "    row['charges'] = float(row['charges'])\n",
    "\n",
    "# check the updated list by printing the first observation   \n",
    "print(insurance_data[1])"
   ]
  },
  {
   "cell_type": "markdown",
   "metadata": {},
   "source": [
    "Now the data is ready for analysis.\n",
    "\n",
    "In order to collect information about regions it is first necessary to find out which regions are represented in the dataset."
   ]
  },
  {
   "cell_type": "code",
   "execution_count": 3,
   "metadata": {},
   "outputs": [
    {
     "name": "stdout",
     "output_type": "stream",
     "text": [
      "['northeast', 'northwest', 'southeast', 'southwest']\n"
     ]
    }
   ],
   "source": [
    "# create a list with unique region names\n",
    "regions_available = []\n",
    "for region in list_regions:\n",
    "    if region in regions_available:\n",
    "        pass\n",
    "    else:\n",
    "        regions_available.append(region)\n",
    "\n",
    "# print the result in alphabetical order\n",
    "print(sorted(regions_available))"
   ]
  },
  {
   "cell_type": "markdown",
   "metadata": {},
   "source": [
    "There are 4 regions: ***Northeast***, ***Northwest***, ***Southeast*** and ***Southwest***. It is also important to know how many observations there are for each region."
   ]
  },
  {
   "cell_type": "code",
   "execution_count": 4,
   "metadata": {},
   "outputs": [
    {
     "name": "stdout",
     "output_type": "stream",
     "text": [
      "Northeast sample: 324\n",
      "Northwest sample: 325\n",
      "Southeast sample: 364\n",
      "Southwest sample: 325\n"
     ]
    }
   ],
   "source": [
    "# calculate the sample sizes for each region\n",
    "northeast_count = list_regions.count('northeast')\n",
    "northwest_count = list_regions.count('northwest')\n",
    "southeast_count = list_regions.count('southeast')\n",
    "southwest_count = list_regions.count('southwest')\n",
    "\n",
    "# print the result\n",
    "print('Northeast sample: %s' %northeast_count)\n",
    "print('Northwest sample: %s' %northwest_count)\n",
    "print('Southeast sample: %s' %southeast_count)\n",
    "print('Southwest sample: %s' %southwest_count)"
   ]
  },
  {
   "cell_type": "markdown",
   "metadata": {},
   "source": [
    "The regions have sufficiently big sample size. There are a bit more observations for Southeast (***n=364 vs. n=324-325***), but overall, the regions are relatively equally represented in the dataset. This will allow conclusions to be drawn with confidence when comparing regions."
   ]
  },
  {
   "cell_type": "markdown",
   "metadata": {},
   "source": [
    "## 2. Exploring differences in the insurance costs between the regions"
   ]
  },
  {
   "cell_type": "markdown",
   "metadata": {},
   "source": [
    "The next task is to compare the insurance costs between the regions. This requires splitting the data set into four parts containing observations for each of the regions separately."
   ]
  },
  {
   "cell_type": "code",
   "execution_count": 5,
   "metadata": {},
   "outputs": [],
   "source": [
    "# create a function that extracts observations from the insurance_data list only for the region given in the function argument\n",
    "def insurance_data_region(region):\n",
    "    final_list = []\n",
    "    for row in insurance_data:\n",
    "        if row['region'] != region:\n",
    "            pass\n",
    "        else:\n",
    "            final_list.append(row)\n",
    "    return final_list\n",
    "\n",
    "# create a list for each region using this function\n",
    "insurance_data_northeast = insurance_data_region('northeast')\n",
    "insurance_data_northwest = insurance_data_region('northwest')\n",
    "insurance_data_southeast = insurance_data_region('southeast')\n",
    "insurance_data_southwest = insurance_data_region('southwest')"
   ]
  },
  {
   "cell_type": "markdown",
   "metadata": {},
   "source": [
    "Based on the created lists, it is possible to calculate the maximum value of insurance costs for each of the regions."
   ]
  },
  {
   "cell_type": "code",
   "execution_count": 6,
   "metadata": {},
   "outputs": [
    {
     "name": "stdout",
     "output_type": "stream",
     "text": [
      "Northeast highest cost: 58571.07\n",
      "Northwest highest cost: 60021.4\n",
      "Southeast highest cost: 63770.43\n",
      "Southwest highest cost: 52590.83\n"
     ]
    }
   ],
   "source": [
    "# create a function that calculates the highest value of charges for the region.The result will be rounded to 2 decimal places.\n",
    "def max_charges(data_region):\n",
    "    list_charges = []\n",
    "    for row in data_region:\n",
    "        list_charges.append(row['charges'])\n",
    "    return round(max(list_charges), 2)\n",
    "\n",
    "# print the result for each region\n",
    "print('Northeast highest cost: %s' %max_charges(insurance_data_northeast))\n",
    "print('Northwest highest cost: %s' %max_charges(insurance_data_northwest))\n",
    "print('Southeast highest cost: %s' %max_charges(insurance_data_southeast))\n",
    "print('Southwest highest cost: %s' %max_charges(insurance_data_southwest))"
   ]
  },
  {
   "cell_type": "markdown",
   "metadata": {},
   "source": [
    "Southeast has the highest value of insurance costs: ***63770.43***. Let's look at the minimum values."
   ]
  },
  {
   "cell_type": "code",
   "execution_count": 7,
   "metadata": {},
   "outputs": [
    {
     "name": "stdout",
     "output_type": "stream",
     "text": [
      "Northeast lowest cost: 1694.8\n",
      "Northwest lowest cost: 1621.34\n",
      "Southeast lowest cost: 1121.87\n",
      "Southwest lowest cost: 1241.57\n"
     ]
    }
   ],
   "source": [
    "# create a function that calculates the lowest value of charges for the region.The result will be rounded to 2 decimal places.\n",
    "def min_charges(data_region):\n",
    "    list_charges = []\n",
    "    for row in data_region:\n",
    "        list_charges.append(row['charges'])\n",
    "    return round(min(list_charges), 2)\n",
    "\n",
    "# print the result for each region\n",
    "print('Northeast lowest cost: %s' %min_charges(insurance_data_northeast))\n",
    "print('Northwest lowest cost: %s' %min_charges(insurance_data_northwest))\n",
    "print('Southeast lowest cost: %s' %min_charges(insurance_data_southeast))\n",
    "print('Southwest lowest cost: %s' %min_charges(insurance_data_southwest))"
   ]
  },
  {
   "cell_type": "markdown",
   "metadata": {},
   "source": [
    "Southeast has also the lowest value of insurance costs: ***1121.87***. Since the extremum points do not give a whole picture, it is worth looking at the mean values and standard deviations."
   ]
  },
  {
   "cell_type": "code",
   "execution_count": 8,
   "metadata": {},
   "outputs": [
    {
     "name": "stdout",
     "output_type": "stream",
     "text": [
      "Northeast average cost is 13406.38 with standard deviation 11255.803\n",
      "Northwest average cost is 12417.58 with standard deviation 11072.277\n",
      "Southeast average cost is 14735.41 with standard deviation 13971.099\n",
      "Southwest average cost is 12346.94 with standard deviation 11557.179\n"
     ]
    }
   ],
   "source": [
    "# for the next functions the statistics library needs to be imported\n",
    "import statistics\n",
    "\n",
    "# create a function that calculates the mean value of charges for the region.The result will be rounded to 2 decimal places.\n",
    "def mean_charges(data_region):\n",
    "    list_charges = []\n",
    "    for row in data_region:\n",
    "        list_charges.append(row['charges'])\n",
    "    return round(statistics.mean(list_charges), 2)\n",
    "\n",
    "# create a function that calculates the standard deviation of charges for the region.The result will be rounded to 3 decimal places.\n",
    "def stdev_charges(data_region):\n",
    "    list_charges = []\n",
    "    for row in data_region:\n",
    "        list_charges.append(row['charges'])\n",
    "    return round(statistics.stdev(list_charges), 3)\n",
    "\n",
    "# print the result for each region\n",
    "print('Northeast average cost is %s with standard deviation %s' % (mean_charges(insurance_data_northeast), stdev_charges(insurance_data_northeast)))\n",
    "print('Northwest average cost is %s with standard deviation %s' % (mean_charges(insurance_data_northwest), stdev_charges(insurance_data_northwest)))\n",
    "print('Southeast average cost is %s with standard deviation %s' % (mean_charges(insurance_data_southeast), stdev_charges(insurance_data_southeast)))\n",
    "print('Southwest average cost is %s with standard deviation %s' % (mean_charges(insurance_data_southwest), stdev_charges(insurance_data_southwest)))"
   ]
  },
  {
   "cell_type": "markdown",
   "metadata": {},
   "source": [
    "Southeast has the highest mean value of insurance costs (***14735.41***) followed by Northeast (***13406.38***), Northwest (***12417.58***) and Southwest (***12346.94***).\n",
    "\n",
    "The standard deviation for each of the regions is very high. It means large spread of values in the data sets relative to the average values, if we suppose that the data is normally distributed. Southeast has also the highest standard deviation (***13971.099***), which correlates with the fact that its min and max values are the most polarized compared to other regions.\n",
    "\n",
    "Let's save the collected information in a dictionary called `regions_charges`."
   ]
  },
  {
   "cell_type": "code",
   "execution_count": 9,
   "metadata": {},
   "outputs": [
    {
     "name": "stdout",
     "output_type": "stream",
     "text": [
      "{'northeast': {'highest': 58571.07, 'lowest': 1694.8, 'mean': 13406.38, 'stdev': 11255.803}, 'northwest': {'highest': 60021.4, 'lowest': 1621.34, 'mean': 12417.58, 'stdev': 11072.277}, 'southeast': {'highest': 63770.43, 'lowest': 1121.87, 'mean': 14735.41, 'stdev': 13971.099}, 'southwest': {'highest': 52590.83, 'lowest': 1241.57, 'mean': 12346.94, 'stdev': 11557.179}}\n"
     ]
    }
   ],
   "source": [
    "# create a function that returns the dictionary with the descriptive statistics about the insurance costs for the analyzed region\n",
    "def charges_stats(data_region):\n",
    "    return {'highest': max_charges(data_region), 'lowest' : min_charges(data_region), 'mean' : mean_charges(data_region), 'stdev' : stdev_charges(data_region)}\n",
    "\n",
    "# save the data in a list called regions_charges\n",
    "regions_charges = {'northeast' : charges_stats(insurance_data_northeast), 'northwest' : charges_stats(insurance_data_northwest), 'southeast' : charges_stats(insurance_data_southeast), 'southwest' : charges_stats(insurance_data_southwest)}\n",
    "\n",
    "# print the created list\n",
    "print(regions_charges)"
   ]
  },
  {
   "cell_type": "markdown",
   "metadata": {},
   "source": [
    "## 3. Analysis of demographic characteristics of regions"
   ]
  },
  {
   "cell_type": "markdown",
   "metadata": {},
   "source": [
    "It is not regional affiliation that determines the difference in insurance costs (or at least not only that). To get a bigger picture, it's necessary to look at demographics, namely at the variables `'age'`, `'sex'`, `'bmi'`, `'children'` and `'smoker'`. \n",
    "\n",
    "Let's start with dichotomous variables: `'sex'` and `'smoker'`."
   ]
  },
  {
   "cell_type": "code",
   "execution_count": 10,
   "metadata": {},
   "outputs": [
    {
     "name": "stdout",
     "output_type": "stream",
     "text": [
      "Northeast: {'female': 49.69, 'male': 50.31}\n",
      "Northwest: {'female': 50.46, 'male': 49.54}\n",
      "Southeast: {'female': 48.08, 'male': 51.92}\n",
      "Southwest: {'female': 49.85, 'male': 50.15}\n"
     ]
    }
   ],
   "source": [
    "# create a variable that returns percentages of males and females in the region, rounded to 2 decimal places.\n",
    "def sexes_stats(data_region):\n",
    "    list_sexes = []\n",
    "    for row in data_region:\n",
    "        list_sexes.append(row['sex'])\n",
    "    percentage_female = (list_sexes.count('female') / len(data_region)) * 100\n",
    "    percentage_male = (list_sexes.count('male') / len(data_region)) * 100\n",
    "    return {'female' : round(percentage_female, 2), 'male' : round(percentage_male, 2)}\n",
    "\n",
    "# print the result for each region\n",
    "print('Northeast:', sexes_stats(insurance_data_northeast))\n",
    "print('Northwest:', sexes_stats(insurance_data_northwest))\n",
    "print('Southeast:', sexes_stats(insurance_data_southeast))\n",
    "print('Southwest:', sexes_stats(insurance_data_southwest))"
   ]
  },
  {
   "cell_type": "markdown",
   "metadata": {},
   "source": [
    "All regions are equally represented by men and women (***~ 50% / 50%*** ratio)."
   ]
  },
  {
   "cell_type": "code",
   "execution_count": 11,
   "metadata": {},
   "outputs": [
    {
     "name": "stdout",
     "output_type": "stream",
     "text": [
      "Northeast: {'yes': 20.68, 'no': 79.32}\n",
      "Northwest: {'yes': 17.85, 'no': 82.15}\n",
      "Southeast: {'yes': 25.0, 'no': 75.0}\n",
      "Southwest: {'yes': 17.85, 'no': 82.15}\n"
     ]
    }
   ],
   "source": [
    "# create a variable that returns percentages of smokers and non-smokers in the region, rounded to 2 decimal places.\n",
    "def smokers_stats(data_region):\n",
    "    list_smokers = []\n",
    "    for row in data_region:\n",
    "        list_smokers.append(row['smoker'])\n",
    "    percentage_yes = (list_smokers.count('yes') / len(data_region)) * 100\n",
    "    percentage_no = (list_smokers.count('no') / len(data_region)) * 100\n",
    "    return {'yes' : round(percentage_yes, 2), 'no' : round(percentage_no, 2)}\n",
    "\n",
    "# print the result for each region\n",
    "print('Northeast:', smokers_stats(insurance_data_northeast))\n",
    "print('Northwest:', smokers_stats(insurance_data_northwest))\n",
    "print('Southeast:', smokers_stats(insurance_data_southeast))\n",
    "print('Southwest:', smokers_stats(insurance_data_southwest))"
   ]
  },
  {
   "cell_type": "markdown",
   "metadata": {},
   "source": [
    "Here is the first clue that may explain why charges for Southeast are higher on average: it has more smokers than other regions (***25%***). Next is Northeast (***~21%*** smokers), which is also the region with the second highest insurance costs. The number of smokers in the western regions is no more than ***18%***.\n",
    "\n",
    "Let's analyse the numeric variables: `'age'`, `'children'` and `'bmi'`."
   ]
  },
  {
   "cell_type": "code",
   "execution_count": 12,
   "metadata": {},
   "outputs": [
    {
     "name": "stdout",
     "output_type": "stream",
     "text": [
      "Northeast: {'under 40': 50.0, '40 or more': 50.0}\n",
      "Northwest: {'under 40': 50.77, '40 or more': 49.23}\n",
      "Southeast: {'under 40': 50.55, '40 or more': 49.45}\n",
      "Southwest: {'under 40': 50.15, '40 or more': 49.85}\n"
     ]
    }
   ],
   "source": [
    "# create a variable that returns the percentages of two groups: people under 40 years old and people aged 40 and older, rounded to 2 decimal places.\n",
    "def ages_stats(data_region):\n",
    "    list_ages = []\n",
    "    for row in data_region:\n",
    "        list_ages.append(row['age'])\n",
    "    list_ages_recode = []\n",
    "    for age in list_ages:\n",
    "        if age < 40:\n",
    "            list_ages_recode.append('y')\n",
    "        else:\n",
    "            list_ages_recode.append('o')\n",
    "    percentage_younger = (list_ages_recode.count('y') / len(data_region)) * 100\n",
    "    percentage_older = (list_ages_recode.count('o') / len(data_region)) * 100\n",
    "    return {'under 40' : round(percentage_younger, 2), '40 or more' : round(percentage_older, 2)}\n",
    "\n",
    "# print the result for each region\n",
    "print('Northeast:', ages_stats(insurance_data_northeast))\n",
    "print('Northwest:', ages_stats(insurance_data_northwest))\n",
    "print('Southeast:', ages_stats(insurance_data_southeast))\n",
    "print('Southwest:', ages_stats(insurance_data_southwest))"
   ]
  },
  {
   "cell_type": "markdown",
   "metadata": {},
   "source": [
    "Similar to the sex distribution, regions have an equal age distribution in the sense that the proportion of young people (<40 years old) is nearly equal to the proportion of older people (>=40 years old)."
   ]
  },
  {
   "cell_type": "code",
   "execution_count": 13,
   "metadata": {},
   "outputs": [
    {
     "name": "stdout",
     "output_type": "stream",
     "text": [
      "Northeast: {'yes': 54.63, 'no': 45.37}\n",
      "Northwest: {'yes': 59.38, 'no': 40.62}\n",
      "Southeast: {'yes': 56.87, 'no': 43.13}\n",
      "Southwest: {'yes': 57.54, 'no': 42.46}\n"
     ]
    }
   ],
   "source": [
    "# create a variable that returns the percentages of two groups: people with children and people without children, rounded to 2 decimal places.\n",
    "def children_stats(data_region):\n",
    "    list_children = []\n",
    "    for row in data_region:\n",
    "        list_children.append(row['children'])\n",
    "    list_children_recode = []\n",
    "    for children in list_children:\n",
    "        if children >0:\n",
    "            list_children_recode.append('yes')\n",
    "        else:\n",
    "            list_children_recode.append('no')\n",
    "    percentage_yes = (list_children_recode.count('yes') / len(data_region)) * 100\n",
    "    percentage_no = (list_children_recode.count('no') / len(data_region)) * 100\n",
    "    return {'yes' : round(percentage_yes, 2), 'no' : round(percentage_no, 2)}\n",
    "\n",
    "# print the result for each region\n",
    "print('Northeast:', children_stats(insurance_data_northeast))\n",
    "print('Northwest:', children_stats(insurance_data_northwest))\n",
    "print('Southeast:', children_stats(insurance_data_southeast))\n",
    "print('Southwest:', children_stats(insurance_data_southwest))"
   ]
  },
  {
   "cell_type": "markdown",
   "metadata": {},
   "source": [
    "Overall, there are slightly more people with children (***>50%***) in each of the four datasets. However, there are no significant differences between the regions that could explain the disparity in insurance costs."
   ]
  },
  {
   "cell_type": "code",
   "execution_count": 14,
   "metadata": {},
   "outputs": [
    {
     "name": "stdout",
     "output_type": "stream",
     "text": [
      "Northeast: {'underweight': 3.09, 'healthy weight': 22.53, 'overweight': 30.25, 'obese': 44.14}\n",
      "Northwest: {'underweight': 2.15, 'healthy weight': 19.38, 'overweight': 32.92, 'obese': 45.54}\n",
      "Southeast: {'underweight': 0.0, 'healthy weight': 11.26, 'overweight': 21.98, 'obese': 66.76}\n",
      "Southwest: {'underweight': 0.92, 'healthy weight': 14.77, 'overweight': 31.08, 'obese': 53.23}\n"
     ]
    }
   ],
   "source": [
    "# create a variable that returns the percentages of four groups: 'underweight', 'healthy weight' and 'overweight', rounded to 2 decimal places.\n",
    "def bmis_stats(data_region):\n",
    "    list_bmis = []\n",
    "    for row in data_region:\n",
    "        list_bmis.append(row['bmi'])\n",
    "    list_bmis_recode = []\n",
    "    for bmi in list_bmis:\n",
    "        if bmi < 18.5:\n",
    "            list_bmis_recode.append('underweight')\n",
    "        elif bmi >= 18.5 and bmi < 25:\n",
    "            list_bmis_recode.append('healthy weight')\n",
    "        elif bmi >= 25 and bmi < 30:\n",
    "            list_bmis_recode.append('overweight')\n",
    "        elif bmi >= 30:\n",
    "            list_bmis_recode.append('obese')\n",
    "    percentage_underweight = (list_bmis_recode.count('underweight') / len(data_region)) * 100\n",
    "    percentage_healthy = (list_bmis_recode.count('healthy weight') / len(data_region)) * 100\n",
    "    percentage_overweight = (list_bmis_recode.count('overweight') / len(data_region)) * 100\n",
    "    percentage_obese = (list_bmis_recode.count('obese') / len(data_region)) * 100\n",
    "    return {'underweight' : round(percentage_underweight, 2), 'healthy weight' : round(percentage_healthy, 2), 'overweight' : round(percentage_overweight, 2), 'obese' : round(percentage_obese, 2)}\n",
    "\n",
    "# print the result for each region\n",
    "print('Northeast:', bmis_stats(insurance_data_northeast))\n",
    "print('Northwest:', bmis_stats(insurance_data_northwest))\n",
    "print('Southeast:', bmis_stats(insurance_data_southeast))\n",
    "print('Southwest:', bmis_stats(insurance_data_southwest))"
   ]
  },
  {
   "cell_type": "markdown",
   "metadata": {},
   "source": [
    "Based on the categorization of [Centers for Disease Control and Prevention](https://www.cdc.gov/healthyweight/assessing/index.html#:~:text=If%20your%20BMI%20is%20less,falls%20within%20the%20obese%20range), it should be noted that in all regions an overwhelming number of insured persons are overweight or even obese (***>74%*** in sum). The record holder here is again Southeast: ***~67%*** of people in this region can be defined as obese, and overall ***~89%*** have excessive weight. At the same time, Southeast has also the lowest proportion of people who are in the healthy weight range on the bmi scale: ***~11%***. In addition to the previous findings, this information helps to understand better why the insurance costs in Southeast are higher on average."
   ]
  },
  {
   "cell_type": "markdown",
   "metadata": {},
   "source": [
    "All variables available in the csv file have been analyzed. Let's save the collected statistics for each region in a dictionary named `regions_stats`."
   ]
  },
  {
   "cell_type": "code",
   "execution_count": 15,
   "metadata": {},
   "outputs": [
    {
     "name": "stdout",
     "output_type": "stream",
     "text": [
      "{'northeast': {'age': {'under 40': 50.0, '40 or more': 50.0}, 'sex': {'female': 49.69, 'male': 50.31}, 'bmi': {'underweight': 3.09, 'healthy weight': 22.53, 'overweight': 30.25, 'obese': 44.14}, 'children': {'yes': 54.63, 'no': 45.37}, 'smoker': {'yes': 20.68, 'no': 79.32}, 'charges': {'highest': 58571.07, 'lowest': 1694.8, 'mean': 13406.38, 'stdev': 11255.803}}, 'northwest': {'age': {'under 40': 50.77, '40 or more': 49.23}, 'sex': {'female': 50.46, 'male': 49.54}, 'bmi': {'underweight': 2.15, 'healthy weight': 19.38, 'overweight': 32.92, 'obese': 45.54}, 'children': {'yes': 59.38, 'no': 40.62}, 'smoker': {'yes': 17.85, 'no': 82.15}, 'charges': {'highest': 60021.4, 'lowest': 1621.34, 'mean': 12417.58, 'stdev': 11072.277}}, 'southeast': {'age': {'under 40': 50.55, '40 or more': 49.45}, 'sex': {'female': 48.08, 'male': 51.92}, 'bmi': {'underweight': 0.0, 'healthy weight': 11.26, 'overweight': 21.98, 'obese': 66.76}, 'children': {'yes': 56.87, 'no': 43.13}, 'smoker': {'yes': 25.0, 'no': 75.0}, 'charges': {'highest': 63770.43, 'lowest': 1121.87, 'mean': 14735.41, 'stdev': 13971.099}}, 'southwest': {'age': {'under 40': 50.15, '40 or more': 49.85}, 'sex': {'female': 49.85, 'male': 50.15}, 'bmi': {'underweight': 0.92, 'healthy weight': 14.77, 'overweight': 31.08, 'obese': 53.23}, 'children': {'yes': 57.54, 'no': 42.46}, 'smoker': {'yes': 17.85, 'no': 82.15}, 'charges': {'highest': 52590.83, 'lowest': 1241.57, 'mean': 12346.94, 'stdev': 11557.179}}}\n"
     ]
    }
   ],
   "source": [
    "# create a variable that collects the statistics for each region\n",
    "def combine_stats(data_region):\n",
    "    return {'age' : ages_stats(data_region), 'sex' : sexes_stats(data_region), 'bmi' : bmis_stats(data_region), 'children' : children_stats(data_region), 'smoker' : smokers_stats(data_region), 'charges' : charges_stats(data_region)}\n",
    "\n",
    "\n",
    "# create a dictionary with all statistics collected\n",
    "region_stats = {'northeast' : combine_stats(insurance_data_northeast), 'northwest' : combine_stats(insurance_data_northwest), 'southeast' : combine_stats(insurance_data_southeast), 'southwest' : combine_stats(insurance_data_southwest)}\n",
    "\n",
    "# print the result\n",
    "print(region_stats)"
   ]
  },
  {
   "cell_type": "markdown",
   "metadata": {},
   "source": [
    "## 4. Conclusion"
   ]
  },
  {
   "cell_type": "markdown",
   "metadata": {},
   "source": [
    "The analysis has been successfully completed. The four regions available in the data set were studied: ***Northeast***, ***Northwest***, ***Southeast*** and ***Southwest***. The number of observations for each of them is the following: ***324*** for Northeast, ***325*** for Northwest, ***325*** for Southwest and ***364*** for Southeast. Each region has ***~ 50% / 50%*** ratio of men and women and ***~ 50% / 50%*** ratio of younger (under 40 y.o.) and older (40 y.o. or more) people. More than half of the insured persons in each region have children: ***~55%-59%***.\n",
    "\n",
    "Among the four regions available for analysis, Southeast has the highest average value of medical insurance costs. In addition, given the fact that the sample size is slightly larger for this region, its data spread is also higher: the standard deviation value is the highest and the min and max values are the most polarized compared to other regions. The higher rate of charges in Southeast can be explained by the fact that this region has the highest percentage of smokers (***25%***), the highest percentage of overweight people in general (***~89%***) and obese people in particular (***~67%***). \n",
    "However, it is not known what factors determine the medical insurance costs, nor how relevant each of the factors is: it is likely that there are also other determinants that are not present in the dataset. Moreover, nothing is known about the real nature of the data provided for the analysis: this is evident from the overly generic names of the regions.\n",
    "\n",
    "The collected statistics were organized into a dictionary, which is available for possible projects in the future."
   ]
  }
 ],
 "metadata": {
  "kernelspec": {
   "display_name": "Python 3 (ipykernel)",
   "language": "python",
   "name": "python3"
  },
  "language_info": {
   "codemirror_mode": {
    "name": "ipython",
    "version": 3
   },
   "file_extension": ".py",
   "mimetype": "text/x-python",
   "name": "python",
   "nbconvert_exporter": "python",
   "pygments_lexer": "ipython3",
   "version": "3.10.9"
  }
 },
 "nbformat": 4,
 "nbformat_minor": 4
}
