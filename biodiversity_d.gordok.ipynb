{
 "cells": [
  {
   "cell_type": "markdown",
   "id": "23030b38",
   "metadata": {},
   "source": [
    "# Portfolio Project: Biodiversity in National Parks"
   ]
  },
  {
   "cell_type": "markdown",
   "id": "de20a960",
   "metadata": {},
   "source": [
    "## 0. Introduction"
   ]
  },
  {
   "cell_type": "markdown",
   "id": "705c8254",
   "metadata": {},
   "source": [
    "### Project Objectives"
   ]
  },
  {
   "cell_type": "markdown",
   "id": "f6d2442b",
   "metadata": {},
   "source": [
    "This project focuses on studying biodiversity in different national parks. The main goal of the project is educational: to apply the skills in analyzing and interpreting data that were developed in the lessons of the Data Science Foundations II course. \n",
    "\n",
    "The objectives of this project are as follows:\n",
    "\n",
    "- to explore the structure of data and its specifics\n",
    "\n",
    "- to analyze the diversity of species represented in the data by counting the number of species and observations in different categories and comparing the distribution with biodiversity at global level (approximate number of species known to science)\n",
    "\n",
    "- to compare the variety of species and observations in different national parks\n",
    "\n",
    "- to study the conservation status of different species as well as it's correlation with the number of observations recorded\n",
    "\n",
    "- and returning to the first point: uncover data anomalies - values and distributions that raise questions and to some extent indicate the artificial nature of the data (that the dataset is not truly reflective of reality and has been created or modified for educational purposes)."
   ]
  },
  {
   "cell_type": "markdown",
   "id": "93b2fb74-bd86-40c6-a5f2-47c096d2ab87",
   "metadata": {},
   "source": [
    "### Project Details and Contact"
   ]
  },
  {
   "cell_type": "markdown",
   "id": "cafa2a5b-9423-4c06-8ee7-4c0c5c425b7a",
   "metadata": {},
   "source": [
    "The project materials are two files: 'species_info.csv' and 'observations.csv'.\n",
    "\n",
    "The paper consists of an introduction, 3 chapters, conclusion and appendix, contains 54 code cells and 9 graphs.\n",
    "\n",
    "If you have any questions or comments please contact ***d.gordok*** in the Codecademy Forum (https://discuss.codecademy.com/)."
   ]
  },
  {
   "cell_type": "markdown",
   "id": "4b53f599",
   "metadata": {},
   "source": [
    "## 1. Exploring the Data"
   ]
  },
  {
   "cell_type": "markdown",
   "id": "53fdea31-6faa-49ae-9232-f0971893540b",
   "metadata": {},
   "source": [
    "First, let's import the modules we'll be working with."
   ]
  },
  {
   "cell_type": "code",
   "execution_count": 1,
   "id": "60216098",
   "metadata": {},
   "outputs": [],
   "source": [
    "import numpy as np\n",
    "import pandas as pd\n",
    "from matplotlib import pyplot as plt\n",
    "import seaborn as sns"
   ]
  },
  {
   "cell_type": "markdown",
   "id": "6d2be457-59c2-478d-bbc5-2d123f4185a2",
   "metadata": {},
   "source": [
    "Now we can upload the first data file called 'species_info' and have a first look at what it contains."
   ]
  },
  {
   "cell_type": "code",
   "execution_count": 2,
   "id": "7b818698",
   "metadata": {},
   "outputs": [
    {
     "name": "stdout",
     "output_type": "stream",
     "text": [
      "<class 'pandas.core.frame.DataFrame'>\n",
      "RangeIndex: 5824 entries, 0 to 5823\n",
      "Data columns (total 4 columns):\n",
      " #   Column               Non-Null Count  Dtype \n",
      "---  ------               --------------  ----- \n",
      " 0   category             5824 non-null   object\n",
      " 1   scientific_name      5824 non-null   object\n",
      " 2   common_names         5824 non-null   object\n",
      " 3   conservation_status  191 non-null    object\n",
      "dtypes: object(4)\n",
      "memory usage: 182.1+ KB\n"
     ]
    },
    {
     "data": {
      "text/html": [
       "<div>\n",
       "<style scoped>\n",
       "    .dataframe tbody tr th:only-of-type {\n",
       "        vertical-align: middle;\n",
       "    }\n",
       "\n",
       "    .dataframe tbody tr th {\n",
       "        vertical-align: top;\n",
       "    }\n",
       "\n",
       "    .dataframe thead th {\n",
       "        text-align: right;\n",
       "    }\n",
       "</style>\n",
       "<table border=\"1\" class=\"dataframe\">\n",
       "  <thead>\n",
       "    <tr style=\"text-align: right;\">\n",
       "      <th></th>\n",
       "      <th>category</th>\n",
       "      <th>scientific_name</th>\n",
       "      <th>common_names</th>\n",
       "      <th>conservation_status</th>\n",
       "    </tr>\n",
       "  </thead>\n",
       "  <tbody>\n",
       "    <tr>\n",
       "      <th>0</th>\n",
       "      <td>Mammal</td>\n",
       "      <td>Clethrionomys gapperi gapperi</td>\n",
       "      <td>Gapper's Red-Backed Vole</td>\n",
       "      <td>NaN</td>\n",
       "    </tr>\n",
       "    <tr>\n",
       "      <th>1</th>\n",
       "      <td>Mammal</td>\n",
       "      <td>Bos bison</td>\n",
       "      <td>American Bison, Bison</td>\n",
       "      <td>NaN</td>\n",
       "    </tr>\n",
       "    <tr>\n",
       "      <th>2</th>\n",
       "      <td>Mammal</td>\n",
       "      <td>Bos taurus</td>\n",
       "      <td>Aurochs, Aurochs, Domestic Cattle (Feral), Dom...</td>\n",
       "      <td>NaN</td>\n",
       "    </tr>\n",
       "    <tr>\n",
       "      <th>3</th>\n",
       "      <td>Mammal</td>\n",
       "      <td>Ovis aries</td>\n",
       "      <td>Domestic Sheep, Mouflon, Red Sheep, Sheep (Feral)</td>\n",
       "      <td>NaN</td>\n",
       "    </tr>\n",
       "    <tr>\n",
       "      <th>4</th>\n",
       "      <td>Mammal</td>\n",
       "      <td>Cervus elaphus</td>\n",
       "      <td>Wapiti Or Elk</td>\n",
       "      <td>NaN</td>\n",
       "    </tr>\n",
       "  </tbody>\n",
       "</table>\n",
       "</div>"
      ],
      "text/plain": [
       "  category                scientific_name  \\\n",
       "0   Mammal  Clethrionomys gapperi gapperi   \n",
       "1   Mammal                      Bos bison   \n",
       "2   Mammal                     Bos taurus   \n",
       "3   Mammal                     Ovis aries   \n",
       "4   Mammal                 Cervus elaphus   \n",
       "\n",
       "                                        common_names conservation_status  \n",
       "0                           Gapper's Red-Backed Vole                 NaN  \n",
       "1                              American Bison, Bison                 NaN  \n",
       "2  Aurochs, Aurochs, Domestic Cattle (Feral), Dom...                 NaN  \n",
       "3  Domestic Sheep, Mouflon, Red Sheep, Sheep (Feral)                 NaN  \n",
       "4                                      Wapiti Or Elk                 NaN  "
      ]
     },
     "execution_count": 2,
     "metadata": {},
     "output_type": "execute_result"
    }
   ],
   "source": [
    "species = pd.read_csv('species_info.csv')\n",
    "species.info()\n",
    "species.head()"
   ]
  },
  {
   "cell_type": "markdown",
   "id": "03c95202",
   "metadata": {},
   "source": [
    "The datafile contains 4 columns and 5824 rows. Let's explore the 'categories' column."
   ]
  },
  {
   "cell_type": "code",
   "execution_count": 3,
   "id": "48f4a486",
   "metadata": {},
   "outputs": [
    {
     "name": "stdout",
     "output_type": "stream",
     "text": [
      "number of categories: 7\n",
      "categories: ['Mammal' 'Bird' 'Reptile' 'Amphibian' 'Fish' 'Vascular Plant'\n",
      " 'Nonvascular Plant']\n"
     ]
    }
   ],
   "source": [
    "print('number of categories:', species.category.nunique())\n",
    "print('categories:', species.category.unique())"
   ]
  },
  {
   "cell_type": "markdown",
   "id": "cfea86ca",
   "metadata": {},
   "source": [
    "There are 7 categories available. Please see in appendix some comments on the given classification [1]. Let's take a look at how many unique scientific names we have."
   ]
  },
  {
   "cell_type": "code",
   "execution_count": 4,
   "id": "ac5e1c2b",
   "metadata": {},
   "outputs": [
    {
     "name": "stdout",
     "output_type": "stream",
     "text": [
      "number of scientific names: 5541\n"
     ]
    }
   ],
   "source": [
    "print('number of scientific names:', species.scientific_name.nunique())"
   ]
  },
  {
   "cell_type": "markdown",
   "id": "fd7db4e1",
   "metadata": {},
   "source": [
    "It's less than the number of rows (5824). The first assumption is that we have duplicated rows. Let's check it out."
   ]
  },
  {
   "cell_type": "code",
   "execution_count": 5,
   "id": "575288c0",
   "metadata": {
    "scrolled": true
   },
   "outputs": [
    {
     "name": "stdout",
     "output_type": "stream",
     "text": [
      "Empty DataFrame\n",
      "Columns: [category, scientific_name, common_names, conservation_status]\n",
      "Index: []\n"
     ]
    }
   ],
   "source": [
    "print(species[species.duplicated()])"
   ]
  },
  {
   "cell_type": "markdown",
   "id": "8854fc17",
   "metadata": {},
   "source": [
    "Surprisingly, we don't have any duplicates. Let's look at the rows in which the scientific names are repeated."
   ]
  },
  {
   "cell_type": "code",
   "execution_count": 6,
   "id": "ebd7b53c",
   "metadata": {},
   "outputs": [
    {
     "name": "stdout",
     "output_type": "stream",
     "text": [
      "            category                   scientific_name  \\\n",
      "3017          Mammal                    Cervus elaphus   \n",
      "3019          Mammal            Odocoileus virginianus   \n",
      "3020          Mammal                       Canis lupus   \n",
      "3022          Mammal                     Puma concolor   \n",
      "3025          Mammal                  Lutra canadensis   \n",
      "...              ...                               ...   \n",
      "5619  Vascular Plant  Panicum rigidulum var. rigidulum   \n",
      "5638  Vascular Plant                    Setaria pumila   \n",
      "5640  Vascular Plant                  Vulpia bromoides   \n",
      "5643  Vascular Plant                     Vulpia myuros   \n",
      "5750  Vascular Plant                   Rosa eglanteria   \n",
      "\n",
      "                                           common_names conservation_status  \n",
      "3017                                 Rocky Mountain Elk                 NaN  \n",
      "3019               White-Tailed Deer, White-Tailed Deer                 NaN  \n",
      "3020                                    Gray Wolf, Wolf         In Recovery  \n",
      "3022                        Cougar, Mountain Lion, Puma                 NaN  \n",
      "3025                                        River Otter                 NaN  \n",
      "...                                                 ...                 ...  \n",
      "5619                  Redtop Panicgrass, Redtop Panicum                 NaN  \n",
      "5638  Cattail Grass, Yellow Bristle Grass, Yellow Br...                 NaN  \n",
      "5640  Brome Fescue, Brome Six-Weeks Grass, Desert Fe...                 NaN  \n",
      "5643  Foxtail Fescue, Rattail Fescue, Rat-Tail Fescu...                 NaN  \n",
      "5750                                    Sweetbriar Rose                 NaN  \n",
      "\n",
      "[283 rows x 4 columns]\n"
     ]
    }
   ],
   "source": [
    "#print rows for all scientific_names that appear >1 times\n",
    "print(species[species.duplicated(subset=['scientific_name'])])"
   ]
  },
  {
   "cell_type": "markdown",
   "id": "f3266092-dc28-401f-ae4a-22e505fc4695",
   "metadata": {},
   "source": [
    "For an example, let's look at the first row from the output above and it's duplication."
   ]
  },
  {
   "cell_type": "code",
   "execution_count": 7,
   "id": "ab8c91bb",
   "metadata": {},
   "outputs": [
    {
     "name": "stdout",
     "output_type": "stream",
     "text": [
      "     category scientific_name        common_names conservation_status\n",
      "4      Mammal  Cervus elaphus       Wapiti Or Elk                 NaN\n",
      "3017   Mammal  Cervus elaphus  Rocky Mountain Elk                 NaN\n"
     ]
    }
   ],
   "source": [
    "print(species[species['scientific_name'] == 'Cervus elaphus'])"
   ]
  },
  {
   "cell_type": "markdown",
   "id": "0bc23e71",
   "metadata": {},
   "source": [
    "The rows have very description of common names. We can also check if there are any rows that have all information duplicated except conservation status."
   ]
  },
  {
   "cell_type": "code",
   "execution_count": 8,
   "id": "0817831e",
   "metadata": {},
   "outputs": [
    {
     "name": "stdout",
     "output_type": "stream",
     "text": [
      "     category      scientific_name     common_names conservation_status\n",
      "3283     Fish  Oncorhynchus mykiss    Rainbow Trout          Threatened\n",
      "4448   Mammal          Canis lupus  Gray Wolf, Wolf          Endangered\n"
     ]
    }
   ],
   "source": [
    "print(species[species.duplicated(subset=['category','scientific_name', 'common_names'])])"
   ]
  },
  {
   "cell_type": "markdown",
   "id": "f0c9a79b",
   "metadata": {},
   "source": [
    "Yes, we have two cases. Let's take a closer look at them."
   ]
  },
  {
   "cell_type": "code",
   "execution_count": 9,
   "id": "1ea25267",
   "metadata": {},
   "outputs": [
    {
     "name": "stdout",
     "output_type": "stream",
     "text": [
      "     category scientific_name     common_names conservation_status\n",
      "8      Mammal     Canis lupus        Gray Wolf          Endangered\n",
      "3020   Mammal     Canis lupus  Gray Wolf, Wolf         In Recovery\n",
      "4448   Mammal     Canis lupus  Gray Wolf, Wolf          Endangered\n",
      "     category      scientific_name   common_names conservation_status\n",
      "560      Fish  Oncorhynchus mykiss  Rainbow Trout                 NaN\n",
      "3283     Fish  Oncorhynchus mykiss  Rainbow Trout          Threatened\n"
     ]
    }
   ],
   "source": [
    "print(species[species['scientific_name'] == 'Canis lupus'])\n",
    "print(species[species['scientific_name'] == 'Oncorhynchus mykiss'])"
   ]
  },
  {
   "cell_type": "markdown",
   "id": "9c948b8a",
   "metadata": {},
   "source": [
    "While the rows for Rainbow Trout could be interpreted as duplication, but only with the addition of conservation status information in the second case, the rows for Gray Wolf raise doubts that we are dealing with duplications: the rows 8 and 4448 indicate an 'Endangered' conservation status,  but in the row 3020 we have 'In recovery'. There are several possible explanations for this:\n",
    "\n",
    "1. Looking for additional info about this species you can the following: \n",
    "- Cervus elaphus across its native range is a highly variable species – hence the taxonomies dividing it into many sub-species (https://www.cabidigitallibrary.org/doi/10.1079/cabicompendium.89943)\n",
    "- There are 38 subspecies of Canis lupus listed in the taxonomic authority Mammal Species of the World (2005, 3rd edition)(https://en.wikipedia.org/wiki/Subspecies_of_Canis_lupus)\n",
    "\n",
    "This means that each species can have subspecies. The first hypothesis is that the variable 'subspecies' existed at the time of data collection and this variable is just not present in the dataset we are working with. The appendix includes some comments on the difficulty of defining species [2].\n",
    "\n",
    "2. There are multiple timeframes when the data was collected. According to the second hypothesis, a variable 'Time' (e.g. Date/Month/Year) is missing in the dataset. In this case, we can't know if the time points of observations are the same for all species or if some of observations were made at different seasons.\n",
    "\n",
    "3. There are multiple areas, where the data were recorded. According to this hypothesis, a variable 'Area' is missing.\n",
    "\n",
    "These hypotheses may explain why scientific species names are not always unique in the dataframe and why, in particular, conservation status information differs in the rows for Gray Wolf.\n",
    "\n",
    "Let's move on to the 'observations' dataframe, which could probably help us to understand the data better."
   ]
  },
  {
   "cell_type": "code",
   "execution_count": 10,
   "id": "c2ebf920",
   "metadata": {},
   "outputs": [
    {
     "name": "stdout",
     "output_type": "stream",
     "text": [
      "<class 'pandas.core.frame.DataFrame'>\n",
      "RangeIndex: 23296 entries, 0 to 23295\n",
      "Data columns (total 3 columns):\n",
      " #   Column           Non-Null Count  Dtype \n",
      "---  ------           --------------  ----- \n",
      " 0   scientific_name  23296 non-null  object\n",
      " 1   park_name        23296 non-null  object\n",
      " 2   observations     23296 non-null  int64 \n",
      "dtypes: int64(1), object(2)\n",
      "memory usage: 546.1+ KB\n"
     ]
    },
    {
     "data": {
      "text/html": [
       "<div>\n",
       "<style scoped>\n",
       "    .dataframe tbody tr th:only-of-type {\n",
       "        vertical-align: middle;\n",
       "    }\n",
       "\n",
       "    .dataframe tbody tr th {\n",
       "        vertical-align: top;\n",
       "    }\n",
       "\n",
       "    .dataframe thead th {\n",
       "        text-align: right;\n",
       "    }\n",
       "</style>\n",
       "<table border=\"1\" class=\"dataframe\">\n",
       "  <thead>\n",
       "    <tr style=\"text-align: right;\">\n",
       "      <th></th>\n",
       "      <th>scientific_name</th>\n",
       "      <th>park_name</th>\n",
       "      <th>observations</th>\n",
       "    </tr>\n",
       "  </thead>\n",
       "  <tbody>\n",
       "    <tr>\n",
       "      <th>0</th>\n",
       "      <td>Vicia benghalensis</td>\n",
       "      <td>Great Smoky Mountains National Park</td>\n",
       "      <td>68</td>\n",
       "    </tr>\n",
       "    <tr>\n",
       "      <th>1</th>\n",
       "      <td>Neovison vison</td>\n",
       "      <td>Great Smoky Mountains National Park</td>\n",
       "      <td>77</td>\n",
       "    </tr>\n",
       "    <tr>\n",
       "      <th>2</th>\n",
       "      <td>Prunus subcordata</td>\n",
       "      <td>Yosemite National Park</td>\n",
       "      <td>138</td>\n",
       "    </tr>\n",
       "    <tr>\n",
       "      <th>3</th>\n",
       "      <td>Abutilon theophrasti</td>\n",
       "      <td>Bryce National Park</td>\n",
       "      <td>84</td>\n",
       "    </tr>\n",
       "    <tr>\n",
       "      <th>4</th>\n",
       "      <td>Githopsis specularioides</td>\n",
       "      <td>Great Smoky Mountains National Park</td>\n",
       "      <td>85</td>\n",
       "    </tr>\n",
       "  </tbody>\n",
       "</table>\n",
       "</div>"
      ],
      "text/plain": [
       "            scientific_name                            park_name  observations\n",
       "0        Vicia benghalensis  Great Smoky Mountains National Park            68\n",
       "1            Neovison vison  Great Smoky Mountains National Park            77\n",
       "2         Prunus subcordata               Yosemite National Park           138\n",
       "3      Abutilon theophrasti                  Bryce National Park            84\n",
       "4  Githopsis specularioides  Great Smoky Mountains National Park            85"
      ]
     },
     "execution_count": 10,
     "metadata": {},
     "output_type": "execute_result"
    }
   ],
   "source": [
    "observations = pd.read_csv('observations.csv')\n",
    "observations.info()\n",
    "observations.head()"
   ]
  },
  {
   "cell_type": "markdown",
   "id": "1c9ec3c0-0f29-4edb-bb14-f5d14b0fdde3",
   "metadata": {},
   "source": [
    "Here we have 3 columns and 23296 rows. Let's count the number of parks and the number of scientific names."
   ]
  },
  {
   "cell_type": "code",
   "execution_count": 11,
   "id": "53d3dd29",
   "metadata": {},
   "outputs": [
    {
     "name": "stdout",
     "output_type": "stream",
     "text": [
      "number of parks:4\n",
      "parks: ['Great Smoky Mountains National Park' 'Yosemite National Park'\n",
      " 'Bryce National Park' 'Yellowstone National Park']\n"
     ]
    }
   ],
   "source": [
    "print(f\"number of parks:{observations.park_name.nunique()}\")\n",
    "print('parks:', observations.park_name.unique())"
   ]
  },
  {
   "cell_type": "code",
   "execution_count": 12,
   "id": "3272176a",
   "metadata": {},
   "outputs": [
    {
     "name": "stdout",
     "output_type": "stream",
     "text": [
      "number of scientific names: 5541\n"
     ]
    }
   ],
   "source": [
    "print('number of scientific names:', observations.scientific_name.nunique())"
   ]
  },
  {
   "cell_type": "markdown",
   "id": "1e29b169",
   "metadata": {},
   "source": [
    "The number of unique scientific names is the same as in the 'species' dataframe. Let's check if we have duplicated rows:"
   ]
  },
  {
   "cell_type": "code",
   "execution_count": 13,
   "id": "4153d9ca",
   "metadata": {},
   "outputs": [
    {
     "name": "stdout",
     "output_type": "stream",
     "text": [
      "duplicated rows:               scientific_name                            park_name  \\\n",
      "7263   Echinochloa crus-galli  Great Smoky Mountains National Park   \n",
      "8710    Streptopelia decaocto            Yellowstone National Park   \n",
      "10038          Plantago major  Great Smoky Mountains National Park   \n",
      "10674           Arctium minus               Yosemite National Park   \n",
      "12381    Eleocharis palustris  Great Smoky Mountains National Park   \n",
      "13372     Hesperis matronalis                  Bryce National Park   \n",
      "16741       Prunella vulgaris  Great Smoky Mountains National Park   \n",
      "17378    Potentilla norvegica               Yosemite National Park   \n",
      "17577      Spilogale putorius            Yellowstone National Park   \n",
      "18141           Poa compressa  Great Smoky Mountains National Park   \n",
      "19392       Cichorium intybus            Yellowstone National Park   \n",
      "20294  Botrychium virginianum            Yellowstone National Park   \n",
      "20820    Monotropa hypopithys  Great Smoky Mountains National Park   \n",
      "21151     Trifolium campestre            Yellowstone National Park   \n",
      "22698            Salix exigua               Yosemite National Park   \n",
      "\n",
      "       observations  \n",
      "7263             62  \n",
      "8710            255  \n",
      "10038            90  \n",
      "10674           162  \n",
      "12381            62  \n",
      "13372           124  \n",
      "16741            75  \n",
      "17378           148  \n",
      "17577           256  \n",
      "18141            80  \n",
      "19392           266  \n",
      "20294           232  \n",
      "20820            73  \n",
      "21151           239  \n",
      "22698           186  \n"
     ]
    }
   ],
   "source": [
    "print('duplicated rows:', observations[observations.duplicated()])"
   ]
  },
  {
   "cell_type": "markdown",
   "id": "40e7c594",
   "metadata": {},
   "source": [
    "Yes, we have! At the first glance, we could assume that if all values for one row are identical to the values for another row - one of the rows is redundant. But again, before making this conclusion, let's take a closer look at the first row of the output and look at all rows with this scientific_name:"
   ]
  },
  {
   "cell_type": "code",
   "execution_count": 14,
   "id": "04846aca",
   "metadata": {},
   "outputs": [
    {
     "name": "stdout",
     "output_type": "stream",
     "text": [
      "              scientific_name                            park_name  \\\n",
      "443    Echinochloa crus-galli               Yosemite National Park   \n",
      "802    Echinochloa crus-galli                  Bryce National Park   \n",
      "1454   Echinochloa crus-galli  Great Smoky Mountains National Park   \n",
      "7263   Echinochloa crus-galli  Great Smoky Mountains National Park   \n",
      "11435  Echinochloa crus-galli                  Bryce National Park   \n",
      "11688  Echinochloa crus-galli            Yellowstone National Park   \n",
      "17581  Echinochloa crus-galli            Yellowstone National Park   \n",
      "17639  Echinochloa crus-galli               Yosemite National Park   \n",
      "\n",
      "       observations  \n",
      "443             159  \n",
      "802             112  \n",
      "1454             62  \n",
      "7263             62  \n",
      "11435           116  \n",
      "11688           254  \n",
      "17581           235  \n",
      "17639           172  \n"
     ]
    }
   ],
   "source": [
    "print(observations[observations['scientific_name'] == 'Echinochloa crus-galli'])"
   ]
  },
  {
   "cell_type": "markdown",
   "id": "c6567c71",
   "metadata": {},
   "source": [
    "Indeed the rows 1454 and 7263 are completely identical, but interesting fact is that the species 'Echinochloa crus-galli' is present twice in each park. Looking ahead, it should be said that this is true not only for 'Echinochloa crus-galli' but for all species in the dataset - each species has the same number of rows in each park: if it's 1 row in one park - there is 1 row in each other park, if 2 rows - then 2 in all other parks etc. (we will analyze this characteristic of the data in detail in the third chapter). Moreover, we can assume that 'species' and 'observations' files share a common source, because number of rows in the species dataframe (5824) * number of parks (4) = number of rows in observations dataframe (23296).\n",
    "\n",
    "The 'area' hypothesis now looks invalid, as it is difficult to imagine that the study area is divided in exactly the same way for all parks where that species is represented, depending on which species we are dealing with. It is also doubtful that all subspecies are equally represented in different parks: there are no cases where one park has 2 subspecies and another 3. Therefore, it is worth preferring the hypothesis that we are talking about different timeframes when the recording was made. There is a possibility that some species need to be studied in different seasons, as their observability may be different depending on the season (migratory birds, hibernation, spawning, etc.). Data from different periods were probably roughly combined into a common dataset (roughly because common names were not unified), then divided into two separate files 'species' and 'observations', and somewhere in this process information about when observations were made was lost.\n",
    "\n",
    "In most rows, the data in the 'observations' column is different. As for the completely repeated rows, it's possible that some of subspecies e.g. of Echinochloa crus-galli have been observed the same number of times in the same national park. Based on all of the above, we can neither delete rows nor combine the number of observations in which the combination 'scientific_name' - 'park_name' is repeated. Although some of rows look very similar or can have exactly the same values, each row in the 'observations' dataframe seems to be unique.\n",
    "\n",
    "We need to emphasize that this hypothesis remains a hypothesis. Under the given circumstances, we can only speculate with varying degrees of plausibility because we lack information on how the data were collected and the reason for the repeated recordings for some species. The purpose of this project is primarily educational - in this sense, in order to move forward and start practicing different ways of processing and analyzing data, we will take the hypothesis of different timeframes as our starting point - a kind of axiom. This means that the conclusions we draw from our analysis should not be taken as a 100% valid description of biodiverity in national parks.\n",
    "\n",
    "Following the hypothesis of different timeframes, we have to take into account that in the repeated rows for one species-park combination many entities can be counted twice. Thus, we need to convert the data into the form that there is only one row for each 'scientific_name'-'park_name' combination. For cases of multiple rows, we will take the average value of observastions, thus bringing the observations to a single value. Of course, we are simplifying the data to some extent, but this simplification is necessary to move forward."
   ]
  },
  {
   "cell_type": "code",
   "execution_count": 15,
   "id": "035502a9",
   "metadata": {},
   "outputs": [
    {
     "name": "stdout",
     "output_type": "stream",
     "text": [
      "     scientific_name                            park_name  observations\n",
      "3216     Canis lupus                  Bryce National Park            43\n",
      "3217     Canis lupus  Great Smoky Mountains National Park            20\n",
      "3218     Canis lupus            Yellowstone National Park           110\n",
      "3219     Canis lupus               Yosemite National Park            65\n"
     ]
    }
   ],
   "source": [
    "#transform data into max. 1 row per species-park combination\n",
    "observations_unique = observations.groupby(['scientific_name', 'park_name']).mean().round(0).astype('int').reset_index()\n",
    "\n",
    "#print an example for Gray Wolf\n",
    "print(observations_unique[observations_unique['scientific_name'] == 'Canis lupus'])"
   ]
  },
  {
   "cell_type": "markdown",
   "id": "3f28f4d3",
   "metadata": {},
   "source": [
    "For the main part of the analysis we will combine the dataframes 'species' and 'observations': we will use the merged file to explore the number of observations per category and the distribution of conservation statuses per category. But there is a small problem: as noted before, common names were recorded differently for the same scientific names in the 'species' file. Since this information does not play an important role in this project, we will remove 'common_names' column and leave only one row for each species in the 'species' dataframe."
   ]
  },
  {
   "cell_type": "code",
   "execution_count": 16,
   "id": "90d7f8a3",
   "metadata": {},
   "outputs": [
    {
     "name": "stdout",
     "output_type": "stream",
     "text": [
      "5543\n"
     ]
    }
   ],
   "source": [
    "#remove common_names\n",
    "species_unique = species.drop('common_names', axis=1)\n",
    "\n",
    "#remove duplicates\n",
    "species_unique.drop_duplicates(inplace=True)\n",
    "\n",
    "print(len(species_unique))"
   ]
  },
  {
   "cell_type": "markdown",
   "id": "67b32ba5",
   "metadata": {},
   "source": [
    "The lenghth of the new dataframe is not equal to unique number of scientific names (5541). The explanation is simple: we should not forget that we have 2 species in the 'species' dataframe where all information is duplicated except conservation status (please see outputs 8 and 9). This is how we handle it: for Rainbow Trout we will keep the conservation status 'Threatened' because it's better than a missing value. For Gray Wolf we will keep the status 'Endangered' because this status is present in 2 out of 3 cases, and it's better to overestimate the risk of extinction than to underestimate it."
   ]
  },
  {
   "cell_type": "code",
   "execution_count": 17,
   "id": "aea2a883",
   "metadata": {},
   "outputs": [
    {
     "name": "stdout",
     "output_type": "stream",
     "text": [
      "  category scientific_name conservation_status\n",
      "8   Mammal     Canis lupus          Endangered\n",
      "     category      scientific_name conservation_status\n",
      "3283     Fish  Oncorhynchus mykiss          Threatened\n"
     ]
    }
   ],
   "source": [
    "species_unique = species_unique.drop(index=560)\n",
    "species_unique = species_unique.drop(index=3020)\n",
    "print(species_unique[species_unique['scientific_name'] == 'Canis lupus'])\n",
    "print(species_unique[species_unique['scientific_name'] == 'Oncorhynchus mykiss'])"
   ]
  },
  {
   "cell_type": "code",
   "execution_count": 18,
   "id": "9fb88a81",
   "metadata": {},
   "outputs": [
    {
     "name": "stdout",
     "output_type": "stream",
     "text": [
      "5541\n"
     ]
    }
   ],
   "source": [
    "print(len(species_unique))"
   ]
  },
  {
   "cell_type": "markdown",
   "id": "266a1686-05be-472a-b857-e51f754ea3c3",
   "metadata": {},
   "source": [
    "Now when the two dataframes are prepared, we can merge them."
   ]
  },
  {
   "cell_type": "code",
   "execution_count": 19,
   "id": "e7b40b45",
   "metadata": {},
   "outputs": [
    {
     "name": "stdout",
     "output_type": "stream",
     "text": [
      "     scientific_name                            park_name  observations  \\\n",
      "3216     Canis lupus                  Bryce National Park            43   \n",
      "3217     Canis lupus  Great Smoky Mountains National Park            20   \n",
      "3218     Canis lupus            Yellowstone National Park           110   \n",
      "3219     Canis lupus               Yosemite National Park            65   \n",
      "\n",
      "     category conservation_status  \n",
      "3216   Mammal          Endangered  \n",
      "3217   Mammal          Endangered  \n",
      "3218   Mammal          Endangered  \n",
      "3219   Mammal          Endangered  \n"
     ]
    }
   ],
   "source": [
    "#merge the dataframes\n",
    "biodiversity = pd.merge(observations_unique, species_unique, on='scientific_name', how='left')\n",
    "\n",
    "#print an example for Gray Wolf\n",
    "print(biodiversity[biodiversity['scientific_name'] == 'Canis lupus'])"
   ]
  },
  {
   "cell_type": "code",
   "execution_count": 20,
   "id": "0333c145",
   "metadata": {},
   "outputs": [
    {
     "name": "stdout",
     "output_type": "stream",
     "text": [
      "<class 'pandas.core.frame.DataFrame'>\n",
      "RangeIndex: 22164 entries, 0 to 22163\n",
      "Data columns (total 5 columns):\n",
      " #   Column               Non-Null Count  Dtype \n",
      "---  ------               --------------  ----- \n",
      " 0   scientific_name      22164 non-null  object\n",
      " 1   park_name            22164 non-null  object\n",
      " 2   observations         22164 non-null  int64 \n",
      " 3   category             22164 non-null  object\n",
      " 4   conservation_status  716 non-null    object\n",
      "dtypes: int64(1), object(4)\n",
      "memory usage: 865.9+ KB\n"
     ]
    }
   ],
   "source": [
    "biodiversity.info()"
   ]
  },
  {
   "cell_type": "markdown",
   "id": "72bf3067-8948-41b8-9309-bf658fa86e61",
   "metadata": {},
   "source": [
    "The 'biodiversity' file is almost finalized. One cosmetic change: let's remove the words 'National Park' from all values in the 'park_name' column, as they seem a bit redundant."
   ]
  },
  {
   "cell_type": "code",
   "execution_count": 21,
   "id": "ae7f9f7c",
   "metadata": {},
   "outputs": [
    {
     "name": "stdout",
     "output_type": "stream",
     "text": [
      "     scientific_name              park_name  observations category  \\\n",
      "3216     Canis lupus                  Bryce            43   Mammal   \n",
      "3217     Canis lupus  Great Smoky Mountains            20   Mammal   \n",
      "3218     Canis lupus            Yellowstone           110   Mammal   \n",
      "3219     Canis lupus               Yosemite            65   Mammal   \n",
      "\n",
      "     conservation_status  \n",
      "3216          Endangered  \n",
      "3217          Endangered  \n",
      "3218          Endangered  \n",
      "3219          Endangered  \n"
     ]
    }
   ],
   "source": [
    "#remove \"National Park\" and strip\n",
    "biodiversity.park_name = biodiversity['park_name'].replace('National Park', '', regex=True)\n",
    "biodiversity.park_name = biodiversity['park_name'].str.strip()\n",
    "\n",
    "#print an example for Gray Wolf\n",
    "print(biodiversity[biodiversity['scientific_name'] == 'Canis lupus'])"
   ]
  },
  {
   "cell_type": "markdown",
   "id": "9d770a23-2e0e-4e4c-b9ce-900a9e32fe35",
   "metadata": {},
   "source": [
    "Lastly, it's worth checking if we have any missing values (except for conservation_status) to make sure we haven't missed anything."
   ]
  },
  {
   "cell_type": "code",
   "execution_count": 22,
   "id": "d6594297",
   "metadata": {},
   "outputs": [
    {
     "data": {
      "text/plain": [
       "scientific_name            0\n",
       "park_name                  0\n",
       "observations               0\n",
       "category                   0\n",
       "conservation_status    21448\n",
       "dtype: int64"
      ]
     },
     "execution_count": 22,
     "metadata": {},
     "output_type": "execute_result"
    }
   ],
   "source": [
    "#check for nan in all columns\n",
    "biodiversity.isna().sum()"
   ]
  },
  {
   "cell_type": "markdown",
   "id": "25450697-fb82-45e9-976e-319abecc6492",
   "metadata": {},
   "source": [
    "Everything is correct. We're ready to begin analyzing the data."
   ]
  },
  {
   "cell_type": "markdown",
   "id": "044e6055",
   "metadata": {},
   "source": [
    "## 2. Analysis"
   ]
  },
  {
   "cell_type": "markdown",
   "id": "a35b7c09",
   "metadata": {},
   "source": [
    "As we found out in the first chapter, the total number of unique scientific names equals 5541. We begin the analysis by counting the number species in each category."
   ]
  },
  {
   "cell_type": "code",
   "execution_count": 23,
   "id": "11bf45bc",
   "metadata": {},
   "outputs": [
    {
     "name": "stdout",
     "output_type": "stream",
     "text": [
      "            category  species  percentage\n",
      "0     Vascular Plant     4262   76.917524\n",
      "1               Bird      488    8.807075\n",
      "2  Nonvascular Plant      333    6.009746\n",
      "3             Mammal      176    3.176322\n",
      "4               Fish      125    2.255910\n",
      "5          Amphibian       79    1.425735\n",
      "6            Reptile       78    1.407688\n"
     ]
    }
   ],
   "source": [
    "species_per_category = species_unique.groupby(['category'])['scientific_name'].count().reset_index()\n",
    "species_per_category = species_per_category.rename(columns={'scientific_name':'species'})\n",
    "\n",
    "#sort in descending order\n",
    "species_per_category = species_per_category.sort_values(by=['species'], ascending=False, ignore_index=True)\n",
    "\n",
    "#add percentages\n",
    "total_count = species_per_category['species'].sum()\n",
    "species_per_category['percentage'] = species_per_category['species'] / total_count * 100\n",
    "\n",
    "print(species_per_category)"
   ]
  },
  {
   "cell_type": "markdown",
   "id": "ca5ce8fc-7810-471b-9637-c1f1375ab3da",
   "metadata": {},
   "source": [
    "To have a better picture of the results, let's visualize this distribution in the form of a horizontal bar chart."
   ]
  },
  {
   "cell_type": "code",
   "execution_count": 24,
   "id": "13a166f6",
   "metadata": {},
   "outputs": [
    {
     "data": {
      "image/png": "[encoded data removed]",
      "text/plain": [
       "<Figure size 1000x500 with 1 Axes>"
      ]
     },
     "metadata": {},
     "output_type": "display_data"
    }
   ],
   "source": [
    "#define colors for the graph\n",
    "colors = {'Amphibian':'orange',\n",
    "          'Bird': 'gray',\n",
    "          'Fish': 'blue',\n",
    "          'Mammal': 'red',\n",
    "          'Nonvascular Plant': 'olive',\n",
    "          'Reptile': 'brown',\n",
    "          'Vascular Plant': 'green'}\n",
    "\n",
    "#the position of the bar on the y-axis\n",
    "r = [1]\n",
    "\n",
    "barHeight = 0.1\n",
    "\n",
    "left_value = 0\n",
    "\n",
    "plt.figure(figsize=(10,5))\n",
    "for index, row in species_per_category.iterrows():\n",
    "    category = row['category']\n",
    "    percentage = row['percentage']\n",
    "    color = colors[category]\n",
    "    plt.barh(r, percentage, left=left_value, color=color, edgecolor='white', label=category, height=barHeight)\n",
    "    plt.text(left_value + percentage / 2, r[0], f'{percentage:.0f}', va='center', ha='center', color='white', fontweight='bold', fontsize=12)\n",
    "    left_value += percentage\n",
    "    \n",
    "plt.yticks([])\n",
    "plt.ylim(0.9, 1.1)\n",
    "plt.xticks([0, 20, 40, 60, 80, 100], ['0%', '20%', '40%', '60%', '80%', '100%'])\n",
    "plt.legend(loc='best', bbox_to_anchor=(1,1))\n",
    "plt.title('Number of species by category, in %')\n",
    " \n",
    "plt.show()"
   ]
  },
  {
   "cell_type": "markdown",
   "id": "a256d2cb-fdae-42ae-b14a-7f46c2e6f3ed",
   "metadata": {},
   "source": [
    "As we can see, 'Vascular Plants' is the most represented category in our data. Together with the categories 'Birds' and 'Non-vascular plants' they cover ca. 92 % of all species. Category 'Mammals' is on the fourth place, 'Fishes', 'Amphibians' and 'Reptiles' are at the end of the bar.\n",
    "\n",
    "Let's compare these findings with the distribution of species in these categories of the biodiversity of our planet - all species known to science. Below are the numbers of species known to science (excluding extinct / possibly extinct/ extinct in the wild species) and the sources where this information was found:\n",
    "- Amphibian: 8717 (https://amphibiaweb.org/)\n",
    "- Bird: 11038 (https://www.birdlife.org/)\n",
    "- Fish: 35608 (https://www.fishbase.us/search.php)\n",
    "- Mammal: 6623 (https://www.mammaldiversity.org/)\n",
    "- Nonvascular Plant (liverworts, hornworts, mosses): 19498 (https://wfoplantlist.org/)\n",
    "- Vascular Plant (lycopods, flowering plants, ferns, conifers and allies, ginkgo, cycadophyta): 358076 (https://wfoplantlist.org/)\n",
    "- Reptile: 12119 (http://www.reptile-database.org/, https://en.wikipedia.org/wiki/List_of_recently_extinct_reptiles)\n",
    "\n",
    "Please note, these numbers are not absolutely accurate and up to date, but they can nevertheless be used as a benchmark.\n",
    "\n",
    "Let's store this information in a dataframe."
   ]
  },
  {
   "cell_type": "code",
   "execution_count": 25,
   "id": "ec5c701b",
   "metadata": {},
   "outputs": [
    {
     "name": "stdout",
     "output_type": "stream",
     "text": [
      "            category  species  percentage\n",
      "0     Vascular Plant   358076   79.276654\n",
      "1               Fish    35608    7.883475\n",
      "2  Nonvascular Plant    19498    4.316782\n",
      "3            Reptile    12119    2.683100\n",
      "4               Bird    11038    2.443771\n",
      "5          Amphibian     8717    1.929910\n",
      "6             Mammal     6623    1.466307\n"
     ]
    }
   ],
   "source": [
    "data_species_global = [['Vascular Plant', 358076], ['Fish', 35608], ['Nonvascular Plant', 19498], ['Reptile', 12119], ['Bird', 11038], ['Amphibian', 8717], ['Mammal', 6623]]\n",
    "\n",
    "species_per_category_global = pd.DataFrame(data_species_global, columns = ['category', 'species'])\n",
    "\n",
    "#add percentages\n",
    "total_species_global = species_per_category_global['species'].sum()\n",
    "species_per_category_global['percentage'] = species_per_category_global['species'] / total_species_global * 100\n",
    "\n",
    "print(species_per_category_global)"
   ]
  },
  {
   "cell_type": "markdown",
   "id": "0414d0df-93bc-4433-9c7d-a95f3e43b1db",
   "metadata": {},
   "source": [
    "Now we sort both dataframes by category to compare them on the graph."
   ]
  },
  {
   "cell_type": "code",
   "execution_count": 26,
   "id": "4112b280-eba1-43f6-8831-1c5a73b6bf9f",
   "metadata": {},
   "outputs": [],
   "source": [
    "species_per_category_global = species_per_category_global.sort_values(by=['category'], ignore_index=True)\n",
    "species_per_category = species_per_category.sort_values(by=['category'], ignore_index=True)"
   ]
  },
  {
   "cell_type": "code",
   "execution_count": 27,
   "id": "dd601e4c",
   "metadata": {},
   "outputs": [
    {
     "data": {
      "image/png": "[encoded data removed]",
      "text/plain": [
       "<Figure size 1000x500 with 1 Axes>"
      ]
     },
     "metadata": {},
     "output_type": "display_data"
    }
   ],
   "source": [
    "#bar positions\n",
    "barHeight = 0.3\n",
    "r = np.arange(len(species_per_category_global['percentage']))\n",
    "r2 = r + barHeight\n",
    "\n",
    "fig, ax = plt.subplots(figsize=(10,5))\n",
    "ax.barh(r, species_per_category_global['percentage'], color='gray', height=barHeight, edgecolor='white', label='Global')\n",
    "ax.barh(r2, species_per_category['percentage'], color='green', height=barHeight, edgecolor='white', label='4 parks')\n",
    "\n",
    "ax.set_yticks(r + barHeight/2)\n",
    "ax.set_yticklabels(species_per_category_global['category'])\n",
    "ax.set_xticks([0, 10, 20, 30, 40, 50, 60, 70, 80, 90, 100], ['0%', '10%', '20%', '30%', '40%', '50%', '60%', '70%', '80%', '90%', '100%'])\n",
    "\n",
    "ax.legend(loc='best', bbox_to_anchor=(1,1), reverse=True)\n",
    "plt.title('Distribution of Species per Category, in %')\n",
    "\n",
    "plt.show()"
   ]
  },
  {
   "cell_type": "markdown",
   "id": "2dce26f5-1866-4c43-a449-f959056239a3",
   "metadata": {},
   "source": [
    "We can conclude that the distributions are comparable: vascular plants make up the major part of the world's species diversity (>75%), and the share of each of the other categories does not exceed 10%. What is worth noting is that we have a higher proportion of birds and a lower proportion of fishes. Let's calculate how much of the world's biological richness our data cover (in percentages for each category) and display the results in the graph."
   ]
  },
  {
   "cell_type": "code",
   "execution_count": 28,
   "id": "d8a40039-17cb-49a3-884c-23fb281ebd15",
   "metadata": {},
   "outputs": [
    {
     "name": "stdout",
     "output_type": "stream",
     "text": [
      "            category  species  percentage  share of global biodiversity\n",
      "0          Amphibian       79    1.425735                      0.906275\n",
      "1               Bird      488    8.807075                      4.421091\n",
      "2               Fish      125    2.255910                      0.351045\n",
      "3             Mammal      176    3.176322                      2.657406\n",
      "4  Nonvascular Plant      333    6.009746                      1.707867\n",
      "5            Reptile       78    1.407688                      0.643617\n",
      "6     Vascular Plant     4262   76.917524                      1.190250\n"
     ]
    }
   ],
   "source": [
    "species_per_category['share of global biodiversity'] = species_per_category['species'] / species_per_category_global['species'] * 100\n",
    "print(species_per_category)"
   ]
  },
  {
   "cell_type": "code",
   "execution_count": 29,
   "id": "e5448f85-16a5-4787-bddb-6af12d4ceb6e",
   "metadata": {},
   "outputs": [
    {
     "data": {
      "image/png": "[encoded data removed]",
      "text/plain": [
       "<Figure size 700x500 with 1 Axes>"
      ]
     },
     "metadata": {},
     "output_type": "display_data"
    }
   ],
   "source": [
    "species_per_category = species_per_category.sort_values(by=['share of global biodiversity'])\n",
    "plt.figure(figsize=(7,5))\n",
    "plt.barh(y=species_per_category['category'], width=species_per_category['share of global biodiversity'], color='green')\n",
    "plt.xticks([0, 1, 2, 3, 4, 5], ['0%', '1%', '2%', '3%', '4%', '5%'])\n",
    "plt.title('Share of global biodiversity, in %')\n",
    "plt.show()"
   ]
  },
  {
   "cell_type": "markdown",
   "id": "dd629e50-6c0a-434c-8a46-c33ab8fff8ff",
   "metadata": {},
   "source": [
    "As we see, our data covers less than 5% of species for each category. This seems plausible given the fact that all national parks we are analyzing are in North America, and other continents and parts of the world are not available for the analysis. It also explains why the 'Fish' category is the least represented - the richness of the aquatic world of the oceans and seas is not included in the data.\n",
    "\n",
    "Let's move on to the next topic: number of observations of species (maximum, minimum and average). Before we begin, please note that there are some difficulties in counting and comparing the number of observations, which are described in the appendix [3]. First, we need to summarize the observations in all the parks for each species."
   ]
  },
  {
   "cell_type": "code",
   "execution_count": 30,
   "id": "eaf13f89",
   "metadata": {},
   "outputs": [
    {
     "name": "stdout",
     "output_type": "stream",
     "text": [
      "            category                     scientific_name  observations\n",
      "0          Amphibian           Acris crepitans crepitans           531\n",
      "1          Amphibian                 Ambystoma maculatum           539\n",
      "2          Amphibian   Ambystoma mavortium melanostictum           607\n",
      "3          Amphibian                    Ambystoma opacum           661\n",
      "4          Amphibian                Ambystoma talpoideum           546\n",
      "...              ...                                 ...           ...\n",
      "5536  Vascular Plant  Zigadenus venenosus var. gramineus           535\n",
      "5537  Vascular Plant  Zigadenus venenosus var. venenosus           509\n",
      "5538  Vascular Plant                        Zizia aptera           570\n",
      "5539  Vascular Plant                         Zizia aurea           628\n",
      "5540  Vascular Plant                    Zizia trifoliata           540\n",
      "\n",
      "[5541 rows x 3 columns]\n"
     ]
    }
   ],
   "source": [
    "biodiversity_total_obs = biodiversity.groupby(['category', 'scientific_name'])['observations'].sum().reset_index()\n",
    "print(biodiversity_total_obs)"
   ]
  },
  {
   "cell_type": "markdown",
   "id": "d3b4e9ef-a95f-45bc-932b-d9ca8590c665",
   "metadata": {},
   "source": [
    "Now we can calculate the min, max and mean values per each category."
   ]
  },
  {
   "cell_type": "code",
   "execution_count": 31,
   "id": "9f63f1f5-3a05-4951-9821-7f0be577b4f1",
   "metadata": {},
   "outputs": [
    {
     "name": "stdout",
     "output_type": "stream",
     "text": [
      "            category         scientific_name  observations\n",
      "0               Bird       Branta hutchinsii           735\n",
      "1     Vascular Plant  Lycopodium tristachyum           729\n",
      "2             Mammal             Bison bison           700\n",
      "3  Nonvascular Plant            Ulota crispa           679\n",
      "4          Amphibian          Rana palustris           677\n",
      "5               Fish        Notropis baileyi           670\n",
      "6            Reptile  Chrysemys picta bellii           669\n"
     ]
    }
   ],
   "source": [
    "# Get the index of the rows with the maximum observations per category\n",
    "idx_max = biodiversity_total_obs.groupby('category')['observations'].idxmax()\n",
    "\n",
    "max_per_category = biodiversity_total_obs.loc[idx_max].sort_values(by=['observations'], ascending=False, ignore_index=True)\n",
    "print(max_per_category)"
   ]
  },
  {
   "cell_type": "code",
   "execution_count": 32,
   "id": "9f61781d-2987-4986-a855-be46793902c0",
   "metadata": {},
   "outputs": [
    {
     "name": "stdout",
     "output_type": "stream",
     "text": [
      "            category            scientific_name  observations\n",
      "0               Bird             Grus americana           131\n",
      "1             Mammal                Canis rufus           137\n",
      "2               Fish            Noturus baileyi           143\n",
      "3          Amphibian               Rana sierrae           144\n",
      "4     Vascular Plant              Geum radiatum           162\n",
      "5            Reptile  Aspidoscelis tigris munda           456\n",
      "6  Nonvascular Plant    Brachythecium oxycladon           472\n"
     ]
    }
   ],
   "source": [
    "# Get the index of the rows with the minimum observations per category\n",
    "idx_min = biodiversity_total_obs.groupby('category')['observations'].idxmin()\n",
    "\n",
    "min_per_category = biodiversity_total_obs.loc[idx_min].sort_values(by=['observations'], ascending=True, ignore_index=True)\n",
    "print(min_per_category)"
   ]
  },
  {
   "cell_type": "code",
   "execution_count": 33,
   "id": "3b3250ed-1e65-4221-92eb-3d2b9ee9eed1",
   "metadata": {},
   "outputs": [
    {
     "name": "stdout",
     "output_type": "stream",
     "text": [
      "            category  mode   mean     std\n",
      "0          Amphibian   546  549.6  77.105\n",
      "1               Bird   551  561.9  61.282\n",
      "2               Fish   585  558.2  88.045\n",
      "3             Mammal   568  545.1  87.800\n",
      "4  Nonvascular Plant   551  572.5  38.113\n",
      "5            Reptile   534  565.5  47.351\n",
      "6     Vascular Plant   555  571.6  40.732\n"
     ]
    }
   ],
   "source": [
    "list_avg_total_obs = []\n",
    "\n",
    "for category in biodiversity_total_obs['category'].unique():\n",
    "    dataframe = biodiversity_total_obs[biodiversity_total_obs['category'] == category]\n",
    "    mode_value = dataframe['observations'].mode().iloc[0] if not dataframe['observations'].mode().empty else None\n",
    "    mean_value = dataframe['observations'].mean()\n",
    "    std_value = dataframe['observations'].std()\n",
    "    list_avg_total_obs.append([category, mode_value, mean_value, std_value])\n",
    "\n",
    "avg_observations_total = pd.DataFrame(list_avg_total_obs, columns=['category', 'mode', 'mean', 'std'])\n",
    "avg_observations_total = avg_observations_total.round({'mean': 1, 'std': 3})\n",
    "\n",
    "print(avg_observations_total)"
   ]
  },
  {
   "cell_type": "markdown",
   "id": "a9633590-6522-433f-95f6-b5351c014b33",
   "metadata": {},
   "source": [
    "Interestingly, the mean and modal values for each category fall in the range of 530 - 575 observations. It is worth looking at the distribution of observations within each category - let's plot a series of histograms."
   ]
  },
  {
   "cell_type": "code",
   "execution_count": 34,
   "id": "db51987f-1d94-4477-85d8-49aaaf5299ed",
   "metadata": {},
   "outputs": [
    {
     "data": {
      "image/png": "[encoded data removed]",
      "text/plain": [
       "<Figure size 1500x700 with 7 Axes>"
      ]
     },
     "metadata": {},
     "output_type": "display_data"
    }
   ],
   "source": [
    "plt.figure(figsize=(15,7))\n",
    "subplot_index=1\n",
    "for category in biodiversity_total_obs['category'].unique():\n",
    "    dataframe=biodiversity_total_obs[biodiversity_total_obs['category'] == category]\n",
    "    ax = plt.subplot(2,4,subplot_index)\n",
    "    ax.hist(dataframe['observations'])\n",
    "    plt.xticks([100, 200, 300, 400, 500, 600, 700, 800], fontsize=8)\n",
    "    plt.title(f'Observations: {category}', fontsize=10)\n",
    "    subplot_index +=1\n",
    "plt.show()"
   ]
  },
  {
   "cell_type": "markdown",
   "id": "fecf263c-b9a3-402d-ba87-0e3d51ec0eee",
   "metadata": {},
   "source": [
    "Although the number of observations for each category is different (y-axis), the distributions of frequencies on the x-axis are quite similar. This seems rather suspicious, to be honest, but perhaps this is normal given the nature of data collection in national parks. For now, we will not draw any conclusions about that.\n",
    "\n",
    "We will continue our analysis by comparing the national parks to each other. First, we can calculate the total number of observations per park and display the results in a donut chart."
   ]
  },
  {
   "cell_type": "code",
   "execution_count": 35,
   "id": "f5ed93e9-171d-4d52-8070-b5a409c408cd",
   "metadata": {},
   "outputs": [
    {
     "name": "stdout",
     "output_type": "stream",
     "text": [
      "               park_name  observations\n",
      "0            Yellowstone       1373598\n",
      "1               Yosemite        821529\n",
      "2                  Bryce        548231\n",
      "3  Great Smoky Mountains        410888\n"
     ]
    }
   ],
   "source": [
    "observations_per_park = biodiversity.groupby('park_name')['observations'].sum().reset_index()\n",
    "observations_per_park = observations_per_park.sort_values(by=['observations'], ascending=False, ignore_index=True)\n",
    "print(observations_per_park)"
   ]
  },
  {
   "cell_type": "code",
   "execution_count": 36,
   "id": "25dd0833-e9a6-481d-a0ba-c16b83b9497a",
   "metadata": {},
   "outputs": [
    {
     "data": {
      "image/png": "[encoded data removed]",
      "text/plain": [
       "<Figure size 640x480 with 1 Axes>"
      ]
     },
     "metadata": {},
     "output_type": "display_data"
    }
   ],
   "source": [
    "names_list = observations_per_park['park_name']\n",
    "observations_list = observations_per_park['observations']\n",
    "\n",
    "#create a circle at the center of the plot\n",
    "circle = plt.Circle( (0,0), 0.6, color='white')\n",
    "\n",
    "plt.pie(observations_list, labels=names_list, colors=['green','blue', 'orange', 'purple'], wedgeprops = { 'linewidth' : 7, 'edgecolor' : 'white' })\n",
    "p = plt.gcf()\n",
    "p.gca().add_artist(circle)\n",
    "plt.title('Observations of Species in 4 National Parks')\n",
    "\n",
    "plt.show()"
   ]
  },
  {
   "cell_type": "markdown",
   "id": "5336a9e3-d4f1-44e6-bd56-ac754aaa6982",
   "metadata": {},
   "source": [
    "Yellowstone is the \"richest\" national park in biological terms according to our data (\\~1.4 million observations), Yosemite is in the second place (\\~820 000 observations), followed by Bryce (\\~550 000) and Great Smoky Mountains (\\~410 000).\n",
    "\n",
    "We already know which species are the most common and which are the rarest if we consider all 4 parks together. Let's take a look at the maximum and minimum values within a single park."
   ]
  },
  {
   "cell_type": "code",
   "execution_count": 37,
   "id": "9970e0d9",
   "metadata": {},
   "outputs": [
    {
     "name": "stdout",
     "output_type": "stream",
     "text": [
      "            category          scientific_name    park_name  observations\n",
      "0     Vascular Plant   Lycopodium tristachyum  Yellowstone           321\n",
      "1  Nonvascular Plant  Pogonatum brachyphyllum  Yellowstone           307\n",
      "2               Bird         Spinus lawrencei  Yellowstone           305\n",
      "3          Amphibian         Ambystoma opacum  Yellowstone           301\n",
      "4            Reptile   Chrysemys picta bellii  Yellowstone           307\n",
      "5             Mammal        Lasiurus borealis  Yellowstone           296\n",
      "6               Fish   Etheostoma sanguifluum  Yellowstone           300\n"
     ]
    }
   ],
   "source": [
    "data_max = []\n",
    "\n",
    "for category in biodiversity['category'].unique():\n",
    "    dataframe=biodiversity[biodiversity['category'] == category]\n",
    "    max_index = dataframe['observations'].idxmax()\n",
    "    max_row = dataframe.loc[max_index]\n",
    "    data_max.append([category, max_row['scientific_name'], max_row['park_name'], max_row['observations']])\n",
    "\n",
    "max_observations = pd.DataFrame(data_max, columns = ['category', 'scientific_name', 'park_name', 'observations'])\n",
    "\n",
    "print(max_observations)"
   ]
  },
  {
   "cell_type": "code",
   "execution_count": 38,
   "id": "f09a3c6a-b7f6-424e-a816-1936c1ef2b37",
   "metadata": {},
   "outputs": [
    {
     "name": "stdout",
     "output_type": "stream",
     "text": [
      "    category   scientific_name  observations\n",
      "488     Bird  Spinus lawrencei           691\n"
     ]
    }
   ],
   "source": [
    "#example for the text below\n",
    "print(biodiversity_total_obs[biodiversity_total_obs['scientific_name']=='Spinus lawrencei'])"
   ]
  },
  {
   "cell_type": "markdown",
   "id": "c536653c-534a-44f6-9e80-858cada5a34c",
   "metadata": {},
   "source": [
    "The park with the most observations overall has the most observations in each category - that makes sense. But comparing with the table of maximum values in total (please see output 31) we see that for some categories 'species-winners' are identical and for some are different. For example, the most common bird in our data for the 4 parks together is 'Branta hutchinsii' (735 observations), but in Yellowstone Park in particular the most common bird is 'Spinus lawrencei' (305 observations) and in the 4 parks together there are 691 observations of this species. This indicates an unequal distribution of observations of species between the parks, which is also plausible.\n",
    "\n",
    "Let's take a look at the minimum number of observations within a single park."
   ]
  },
  {
   "cell_type": "code",
   "execution_count": 39,
   "id": "e0d33e0e",
   "metadata": {},
   "outputs": [
    {
     "name": "stdout",
     "output_type": "stream",
     "text": [
      "            category                    scientific_name  \\\n",
      "0     Vascular Plant                    Corydalis aurea   \n",
      "1  Nonvascular Plant              Racomitrium aciculare   \n",
      "2               Bird                 Strix occidentalis   \n",
      "3          Amphibian                       Rana sierrae   \n",
      "4            Reptile  Sceloporus undulatus hyacinthinus   \n",
      "5             Mammal                        Canis rufus   \n",
      "6               Fish                  Erimonax monachus   \n",
      "\n",
      "               park_name  observations  \n",
      "0                  Bryce             9  \n",
      "1  Great Smoky Mountains            19  \n",
      "2  Great Smoky Mountains            11  \n",
      "3  Great Smoky Mountains            11  \n",
      "4  Great Smoky Mountains            18  \n",
      "5  Great Smoky Mountains            13  \n",
      "6  Great Smoky Mountains            18  \n"
     ]
    }
   ],
   "source": [
    "data_min = []\n",
    "\n",
    "for category in biodiversity['category'].unique():\n",
    "    dataframe=biodiversity[biodiversity['category'] == category]\n",
    "    min_index = dataframe['observations'].idxmin()\n",
    "    min_row = dataframe.loc[min_index]\n",
    "    data_min.append([category, min_row['scientific_name'], min_row['park_name'], min_row['observations']])\n",
    "\n",
    "min_observations = pd.DataFrame(data_min, columns = ['category', 'scientific_name', 'park_name', 'observations'])\n",
    "\n",
    "print(min_observations)"
   ]
  },
  {
   "cell_type": "markdown",
   "id": "d561f330-d10d-427d-b26c-57a71bbf7836",
   "metadata": {},
   "source": [
    "Here the conclusion about the uneven distribution of species is confirmed once again. Moreover, although Great Smoky Mountains is the smallest park in terms of observations, the minimum number of observations for vascular plant within one park is observed in Bryce park: Corydalis aurea - only 9 observations.\n",
    "\n",
    "Let's move on to the next topic: conservation status of different species. First, we need to create a dataframe with all data in which the 'conservation_status' column does not have a missing value."
   ]
  },
  {
   "cell_type": "code",
   "execution_count": 40,
   "id": "c68b39c2-bd20-4ba8-8de7-df3d94e038b8",
   "metadata": {},
   "outputs": [
    {
     "name": "stdout",
     "output_type": "stream",
     "text": [
      "716\n"
     ]
    }
   ],
   "source": [
    "biodiversity_conservation = biodiversity[biodiversity['conservation_status'].isna() == False].reset_index()\n",
    "print(len(biodiversity_conservation))"
   ]
  },
  {
   "cell_type": "markdown",
   "id": "5e6011b6-aff6-4770-aebb-2031e23489bb",
   "metadata": {},
   "source": [
    "There are 716 rows available for the analysis. Let's take a look at the conservation statuses that we have."
   ]
  },
  {
   "cell_type": "code",
   "execution_count": 41,
   "id": "5db7058a-e528-4ce0-bbc9-2725639e8b9b",
   "metadata": {},
   "outputs": [
    {
     "name": "stdout",
     "output_type": "stream",
     "text": [
      "Conservation statuses: ['Species of Concern' 'Threatened' 'Endangered' 'In Recovery']\n"
     ]
    }
   ],
   "source": [
    "print('Conservation statuses:', biodiversity_conservation['conservation_status'].unique())"
   ]
  },
  {
   "cell_type": "markdown",
   "id": "cde17cac-713f-485a-ba1b-36ef316058cf",
   "metadata": {},
   "source": [
    "We can conclude that we have information about conservation status only for species that are or have been threatened to some extent. This is how we will order these statuses based on the danger/risk of extinction of species:\n",
    "1. In Recovery (least danger, recovering but still monitored)\n",
    "2. Species of Concern\n",
    "3. Threatened\n",
    "4. Endangered (most danger, high risk of extinction)\n",
    "\n",
    "Let's count how many species there are for each conservation status."
   ]
  },
  {
   "cell_type": "code",
   "execution_count": 42,
   "id": "19e0ffc9-11fe-4ab2-882d-da30f2b7ef3f",
   "metadata": {},
   "outputs": [
    {
     "name": "stdout",
     "output_type": "stream",
     "text": [
      "  conservation_status  species\n",
      "0          Endangered       15\n",
      "1         In Recovery        3\n",
      "2  Species of Concern      151\n",
      "3          Threatened       10\n"
     ]
    }
   ],
   "source": [
    "conservation_species = species_unique.groupby('conservation_status')['scientific_name'].count().reset_index()\n",
    "conservation_species = conservation_species.rename(columns={'scientific_name':'species'})\n",
    "print(conservation_species)"
   ]
  },
  {
   "cell_type": "markdown",
   "id": "abed7ab4-9236-4297-8e7b-8ab7855b37a1",
   "metadata": {},
   "source": [
    "The most frequent status is 'Species of Concern', the least frequent status is 'In Recovery'. \n",
    "\n",
    "Let's take a look at the numbers for each status per category and display the results as a grouped bar chart."
   ]
  },
  {
   "cell_type": "code",
   "execution_count": 43,
   "id": "2f85fa85-adc6-4fb8-966a-5493ab9972a9",
   "metadata": {},
   "outputs": [
    {
     "name": "stdout",
     "output_type": "stream",
     "text": [
      "   conservation_status           category  species\n",
      "0           Endangered          Amphibian        1\n",
      "1           Endangered               Bird        4\n",
      "2           Endangered               Fish        3\n",
      "3           Endangered             Mammal        6\n",
      "4           Endangered  Nonvascular Plant        0\n",
      "5           Endangered            Reptile        0\n",
      "6           Endangered     Vascular Plant        1\n",
      "7          In Recovery          Amphibian        0\n",
      "8          In Recovery               Bird        3\n",
      "9          In Recovery               Fish        0\n",
      "10         In Recovery             Mammal        0\n",
      "11         In Recovery  Nonvascular Plant        0\n",
      "12         In Recovery            Reptile        0\n",
      "13         In Recovery     Vascular Plant        0\n",
      "14  Species of Concern          Amphibian        4\n",
      "15  Species of Concern               Bird       68\n",
      "16  Species of Concern               Fish        4\n",
      "17  Species of Concern             Mammal       22\n",
      "18  Species of Concern  Nonvascular Plant        5\n",
      "19  Species of Concern            Reptile        5\n",
      "20  Species of Concern     Vascular Plant       43\n",
      "21          Threatened          Amphibian        2\n",
      "22          Threatened               Bird        0\n",
      "23          Threatened               Fish        4\n",
      "24          Threatened             Mammal        2\n",
      "25          Threatened  Nonvascular Plant        0\n",
      "26          Threatened            Reptile        0\n",
      "27          Threatened     Vascular Plant        2\n"
     ]
    }
   ],
   "source": [
    "conservation_species_per_category = species_unique.groupby(['conservation_status', 'category'])['scientific_name'].count().reset_index()\n",
    "conservation_species_per_category = conservation_species_per_category.rename(columns={'scientific_name':'species'})\n",
    "\n",
    "#add null values so that there are no missing values in the table\n",
    "missing_rows = []\n",
    "\n",
    "for status in conservation_species_per_category['conservation_status'].unique():\n",
    "    for category in biodiversity['category'].unique():\n",
    "        if not ((conservation_species_per_category['conservation_status'] == status) & (conservation_species_per_category['category'] == category)).any():\n",
    "            missing_rows.append({'conservation_status': status, 'category': category, 'species': 0})\n",
    "\n",
    "missing_df = pd.DataFrame(missing_rows)\n",
    "conservation_species_per_category = pd.concat([conservation_species_per_category, missing_df], ignore_index=True)\n",
    "\n",
    "conservation_species_per_category = conservation_species_per_category.sort_values(by=['conservation_status', 'category'], ignore_index=True)\n",
    "print(conservation_species_per_category)"
   ]
  },
  {
   "cell_type": "code",
   "execution_count": 44,
   "id": "c805cb8c-ebfd-4ecb-bcfb-e221c0e1a7c5",
   "metadata": {},
   "outputs": [
    {
     "data": {
      "image/png": "[encoded data removed]",
      "text/plain": [
       "<Figure size 1000x700 with 1 Axes>"
      ]
     },
     "metadata": {},
     "output_type": "display_data"
    }
   ],
   "source": [
    "#define parameters for the graph\n",
    "barWidth = 0.15\n",
    "r = np.arange(7)  # Positions for the first set of bars\n",
    "r2 = r + barWidth  # Positions for the second set of bars\n",
    "r3 = r2 + barWidth  # Positions for the third set of bars\n",
    "r4 = r3 + barWidth  # Positions for the fourth set of bars\n",
    "\n",
    "fig, ax = plt.subplots(figsize=(10, 7))\n",
    "\n",
    "ax.bar(r, conservation_species_per_category[conservation_species_per_category['conservation_status'] == 'In Recovery']['species'], color='green', width=barWidth, edgecolor='white', label='In Recovery')\n",
    "ax.bar(r2, conservation_species_per_category[conservation_species_per_category['conservation_status'] == 'Species of Concern']['species'], color='gray', width=barWidth, edgecolor='white', label='Species of Concern')\n",
    "ax.bar(r3, conservation_species_per_category[conservation_species_per_category['conservation_status'] == 'Threatened']['species'], color='orange', width=barWidth, edgecolor='white', label='Threatened')\n",
    "ax.bar(r4, conservation_species_per_category[conservation_species_per_category['conservation_status'] == 'Endangered']['species'], color='red', width=barWidth, edgecolor='white', label='Endangered')\n",
    "\n",
    "ax.set_xticks(r + 1.5 * barWidth)\n",
    "ax.set_xticklabels(['Amphibian', 'Bird', 'Fish', 'Mammal', 'Nonvascular Plant', 'Reptile', 'Vascular Plant'])\n",
    "ax.set_yticks(np.arange(0, 71, 5))\n",
    "\n",
    "ax.set_title('Conservation Status of Species per Category, in absolute values')\n",
    "ax.legend(loc='best', bbox_to_anchor=(1, 1), title='Conservation Status')\n",
    "\n",
    "plt.show()"
   ]
  },
  {
   "cell_type": "markdown",
   "id": "8f87c98a-21c4-4635-936a-fd5f3ffc90ec",
   "metadata": {},
   "source": [
    "It is interesting that only birds have a status of “In Recovery”. At the same time, we see that the predominant part of the statuses of species in almost all categories is “Species of Concern”. \n",
    "\n",
    "It's also interesting to check, if there is a correlation between the conservation status and number of observations recorded for each species. We will not calculate the regression index, but just look at the relationship between the two variables on the graph. To eliminate the factor of different distribution of species across the parks, let's first calculate the the mean value of observations per scientific name and then plot the results."
   ]
  },
  {
   "cell_type": "code",
   "execution_count": 45,
   "id": "3cf3ab71-0b9d-44fd-9622-beffb072e3f9",
   "metadata": {},
   "outputs": [
    {
     "data": {
      "text/plain": [
       "[Text(39.347222222222214, 0.5, '')]"
      ]
     },
     "execution_count": 45,
     "metadata": {},
     "output_type": "execute_result"
    },
    {
     "data": {
      "image/png": "[encoded data removed]",
      "text/plain": [
       "<Figure size 1500x700 with 1 Axes>"
      ]
     },
     "metadata": {},
     "output_type": "display_data"
    }
   ],
   "source": [
    "conservation_observations_per_species = biodiversity_conservation.groupby(['conservation_status', 'category', 'scientific_name'])['observations'].mean().reset_index()\n",
    "conservation_observations_per_species = conservation_observations_per_species.rename(columns={'observations':'observations_mean'})\n",
    "conservation_observations_per_species = conservation_observations_per_species.sort_values(by=['observations_mean', 'conservation_status'], ignore_index=True)\n",
    "\n",
    "plt.figure(figsize=(15,7))\n",
    "ax = sns.swarmplot(data=conservation_observations_per_species, x=\"observations_mean\", y=\"conservation_status\")\n",
    "ax.set_title('Conservation Status and Number of Observations')\n",
    "ax.set(ylabel=\"\")"
   ]
  },
  {
   "cell_type": "markdown",
   "id": "3619982e-e6f1-464c-ba16-8e7157b3d76e",
   "metadata": {},
   "source": [
    "As the chart shows, extinction risk is directly related to the number of observations: species with the fewest observations (~35-45) have an “Endangered” status, species with ~60-100 observations have a “Threatened” status, and species with ~110-160 observations are defined as “Species of Concern”. Species 'In Recovery' are no longer threatened, but still need to be monitored as they are in the same range as “Species of Concern”. "
   ]
  },
  {
   "cell_type": "markdown",
   "id": "871a3335",
   "metadata": {},
   "source": [
    "## 3. Exploring Strange Aspects of Data"
   ]
  },
  {
   "cell_type": "markdown",
   "id": "d0024ffd-fc91-4222-8d4d-352e9d002934",
   "metadata": {},
   "source": [
    "Besides the plausible results presented above, the project also revealed some “anomalies” - illogical and unrealistic findings. \n",
    "\n",
    "First, let's check how many species have more than one row in each park in the initial dataframe."
   ]
  },
  {
   "cell_type": "code",
   "execution_count": 46,
   "id": "82a2ad9c",
   "metadata": {},
   "outputs": [
    {
     "name": "stdout",
     "output_type": "stream",
     "text": [
      "1 row per species-park combination: 21068\n",
      "2 rows or more per species-park combination: 1096\n",
      "3 rows or more per species-park combination: 36\n",
      "4 rows or more per species-park combination: 0\n",
      "completely duplicated rows: 15\n"
     ]
    }
   ],
   "source": [
    "counts = observations.groupby(['scientific_name', 'park_name']).size().reset_index(name='count')\n",
    "print('1 row per species-park combination:', counts[counts['count'] == 1]['scientific_name'].count())\n",
    "print('2 rows or more per species-park combination:', counts[counts['count'] > 1]['scientific_name'].count())\n",
    "print('3 rows or more per species-park combination:', counts[counts['count'] > 2]['scientific_name'].count())\n",
    "print('4 rows or more per species-park combination:', counts[counts['count'] > 3]['scientific_name'].count())\n",
    "print('completely duplicated rows:', observations[observations.duplicated()]['scientific_name'].count())"
   ]
  },
  {
   "cell_type": "markdown",
   "id": "d34b7ec9",
   "metadata": {},
   "source": [
    "We tried to explain these duplications (2 rows or more) through the hypothesis of different time points when the observations were made. But we should also consider the quite strange fact that each species has the same number of rows in each park it's found in, and going further - all species are present in all parks."
   ]
  },
  {
   "cell_type": "code",
   "execution_count": 47,
   "id": "4b3ae9b1-3f80-42ac-91d1-7b54e8708717",
   "metadata": {},
   "outputs": [
    {
     "name": "stdout",
     "output_type": "stream",
     "text": [
      "Each species has the same number of rows in each park it's found in.\n"
     ]
    }
   ],
   "source": [
    "#group by 'scientific_name' and 'park_name' and count the occurrences\n",
    "counts = observations.groupby(['scientific_name', 'park_name']).size().reset_index(name='count')\n",
    "\n",
    "#check if each species has the same number of rows in each park\n",
    "consistent_species = counts.groupby('scientific_name')['count'].nunique()\n",
    "\n",
    "#species with inconsistent counts across parks\n",
    "inconsistent_species = consistent_species[consistent_species > 1]\n",
    "\n",
    "if inconsistent_species.empty:\n",
    "    print(\"Each species has the same number of rows in each park it's found in.\")\n",
    "else:\n",
    "    print(\"There are species with different number of rows in different parks.\")\n",
    "    print(inconsistent_species)"
   ]
  },
  {
   "cell_type": "code",
   "execution_count": 48,
   "id": "01dd40d2-8311-403b-98d3-dd1512fc451e",
   "metadata": {},
   "outputs": [
    {
     "name": "stdout",
     "output_type": "stream",
     "text": [
      "All species are present in all parks.\n"
     ]
    }
   ],
   "source": [
    "total_parks = observations['park_name'].nunique()\n",
    "\n",
    "#group by 'scientific_name' and count the unique parks where each species is observed\n",
    "species_parks = observations.groupby('scientific_name')['park_name'].nunique().reset_index(name='park_count')\n",
    "\n",
    "#check if each species is present in all parks\n",
    "species_not_in_all_parks = species_parks[species_parks['park_count'] < total_parks]\n",
    "\n",
    "if species_not_in_all_parks.empty:\n",
    "    print(\"All species are present in all parks.\")\n",
    "else:\n",
    "    print(\"Some species are not present in all parks.\")\n",
    "    print(species_not_in_all_parks)"
   ]
  },
  {
   "cell_type": "code",
   "execution_count": 49,
   "id": "873bde68-8b39-48f6-9092-f3d049bafb74",
   "metadata": {},
   "outputs": [
    {
     "name": "stdout",
     "output_type": "stream",
     "text": [
      "                park_name           category  species\n",
      "0                Yosemite     Vascular Plant     4262\n",
      "1                Yosemite               Bird      488\n",
      "2                Yosemite  Nonvascular Plant      333\n",
      "3                Yosemite             Mammal      176\n",
      "4                Yosemite               Fish      125\n",
      "5                Yosemite          Amphibian       79\n",
      "6                Yosemite            Reptile       78\n",
      "7             Yellowstone     Vascular Plant     4262\n",
      "8             Yellowstone               Bird      488\n",
      "9             Yellowstone  Nonvascular Plant      333\n",
      "10            Yellowstone             Mammal      176\n",
      "11            Yellowstone               Fish      125\n",
      "12            Yellowstone          Amphibian       79\n",
      "13            Yellowstone            Reptile       78\n",
      "14  Great Smoky Mountains     Vascular Plant     4262\n",
      "15  Great Smoky Mountains               Bird      488\n",
      "16  Great Smoky Mountains  Nonvascular Plant      333\n",
      "17  Great Smoky Mountains             Mammal      176\n",
      "18  Great Smoky Mountains               Fish      125\n",
      "19  Great Smoky Mountains          Amphibian       79\n",
      "20  Great Smoky Mountains            Reptile       78\n",
      "21                  Bryce     Vascular Plant     4262\n",
      "22                  Bryce               Bird      488\n",
      "23                  Bryce  Nonvascular Plant      333\n",
      "24                  Bryce             Mammal      176\n",
      "25                  Bryce               Fish      125\n",
      "26                  Bryce          Amphibian       79\n",
      "27                  Bryce            Reptile       78\n"
     ]
    }
   ],
   "source": [
    "species_per_category_park = biodiversity.groupby(['park_name', 'category'])['scientific_name'].count().reset_index(name='species')\n",
    "species_per_category_park = species_per_category_park.sort_values(by=['park_name', 'species'], ascending=False, ignore_index=True)\n",
    "print(species_per_category_park)"
   ]
  },
  {
   "cell_type": "markdown",
   "id": "5cc14eaf-82bf-4c11-8407-991667f360e8",
   "metadata": {},
   "source": [
    "Even if we explain the same number of rows for species in each park by a specifics of making observations for some species in different time periods/seasons, it is difficult to find a realistic explanation why there are no unique species that are present only in one park. There should be a difference between the parks in the diversity of species.\n",
    "\n",
    "The oddities are not only in the presence of species in all parks, but also in the ratio of species to observations. Let us repeat what we did at the beginning of Chapter 2, but this time for observations instead of species."
   ]
  },
  {
   "cell_type": "code",
   "execution_count": 50,
   "id": "a8b5ad48-41e1-4512-bd99-8c8e3dde0022",
   "metadata": {},
   "outputs": [
    {
     "name": "stdout",
     "output_type": "stream",
     "text": [
      "            category  observations  percentage\n",
      "0     Vascular Plant       2436144   77.233799\n",
      "1               Bird        274205    8.693203\n",
      "2  Nonvascular Plant        190653    6.044329\n",
      "3             Mammal         95941    3.041646\n",
      "4               Fish         69775    2.212098\n",
      "5            Reptile         44107    1.398337\n",
      "6          Amphibian         43421    1.376589\n"
     ]
    }
   ],
   "source": [
    "observations_per_category = biodiversity.groupby(['category'])['observations'].sum().reset_index()\n",
    "\n",
    "#sort in descending order\n",
    "observations_per_category = observations_per_category.sort_values(by=['observations'], ascending=False, ignore_index=True)\n",
    "\n",
    "#add percentages\n",
    "total_observations = observations_per_category['observations'].sum()\n",
    "observations_per_category['percentage'] = observations_per_category['observations'] / total_observations * 100\n",
    "\n",
    "print(observations_per_category)"
   ]
  },
  {
   "cell_type": "code",
   "execution_count": 51,
   "id": "2a678509-8463-44eb-a46a-b87cd2dbf425",
   "metadata": {},
   "outputs": [
    {
     "data": {
      "image/png": "[encoded data removed]",
      "text/plain": [
       "<Figure size 1000x500 with 1 Axes>"
      ]
     },
     "metadata": {},
     "output_type": "display_data"
    }
   ],
   "source": [
    "#the position of the bar on the y-axis\n",
    "r = [1]\n",
    "\n",
    "barHeight = 0.1\n",
    "\n",
    "left_value = 0\n",
    "\n",
    "plt.figure(figsize=(10,5))\n",
    "for index, row in observations_per_category.iterrows():\n",
    "    category = row['category']\n",
    "    percentage = row['percentage']\n",
    "    color = colors[category]\n",
    "    plt.barh(r, percentage, left=left_value, color=color, edgecolor='white', label=category, height=barHeight)\n",
    "    plt.text(left_value + percentage / 2, r[0], f'{percentage:.0f}', va='center', ha='center', color='white', fontweight='bold', fontsize=12)\n",
    "    left_value += percentage\n",
    "    \n",
    "plt.yticks([])\n",
    "plt.ylim(0.9, 1.1)\n",
    "plt.xticks([0, 20, 40, 60, 80, 100], ['0%', '20%', '40%', '60%', '80%', '100%'])\n",
    "plt.legend(loc='best', bbox_to_anchor=(1,1))\n",
    "plt.title('Number of observations by category, in %')\n",
    " \n",
    "plt.show()"
   ]
  },
  {
   "cell_type": "markdown",
   "id": "e8ea4b77-4cc2-48e8-9de4-628d4322506d",
   "metadata": {},
   "source": [
    "Rounding to integer values, this graph becomes identical to the graph at the beginning of Chapter 2. If the values are almost identical, then the ratio of the number of species to the number of their observations is approximately the same among all categories. Let's calculate the ratio."
   ]
  },
  {
   "cell_type": "code",
   "execution_count": 52,
   "id": "36eee4d2-7f1a-4f82-b8ef-41e1cd2e1739",
   "metadata": {},
   "outputs": [
    {
     "name": "stdout",
     "output_type": "stream",
     "text": [
      "            category  species  observations       ratio\n",
      "0  Nonvascular Plant      333        190653  572.531532\n",
      "1     Vascular Plant     4262       2436144  571.596434\n",
      "2            Reptile       78         44107  565.474359\n",
      "3               Bird      488        274205  561.895492\n",
      "4               Fish      125         69775  558.200000\n",
      "5          Amphibian       79         43421  549.632911\n",
      "6             Mammal      176         95941  545.119318\n"
     ]
    }
   ],
   "source": [
    "species_observations_per_category = pd.merge(species_per_category[['category', 'species']], observations_per_category[['category', 'observations']], on='category')\n",
    "species_observations_per_category['ratio'] = species_observations_per_category['observations'] / species_observations_per_category['species']\n",
    "species_observations_per_category = species_observations_per_category.sort_values(by=['ratio'], ascending=False, ignore_index=True)\n",
    "print(species_observations_per_category)"
   ]
  },
  {
   "cell_type": "markdown",
   "id": "202ecbeb-738d-4491-9ed3-25ddc638a34a",
   "metadata": {},
   "source": [
    "Indeed, the ratio is similar in all categories: around 550-572 observations per species in each category (in all 4 parks together). In fact, these numbers are the same as the mean values of observations per category we calculated before (please see output 33). As noted earlier, this similarity of figures as well as the similarity of distributions (output 34) doesn't seem plausible.\n",
    "\n",
    "When we look at the proportions of observations per category in each park, the data again seem unrealistic."
   ]
  },
  {
   "cell_type": "code",
   "execution_count": 53,
   "id": "e5c047a6-cd08-4239-a23f-c9d1a8992eed",
   "metadata": {},
   "outputs": [
    {
     "name": "stdout",
     "output_type": "stream",
     "text": [
      "                park_name           category  observations  percentage\n",
      "0                   Bryce          Amphibian          7299    1.331373\n",
      "1                   Bryce               Bird         48387    8.826024\n",
      "2                   Bryce               Fish         12223    2.229535\n",
      "3                   Bryce             Mammal         16831    3.070056\n",
      "4                   Bryce  Nonvascular Plant         32992    6.017901\n",
      "5                   Bryce            Reptile          7855    1.432790\n",
      "6                   Bryce     Vascular Plant        422644   77.092321\n",
      "7   Great Smoky Mountains          Amphibian          5622    1.368256\n",
      "8   Great Smoky Mountains               Bird         35295    8.589932\n",
      "9   Great Smoky Mountains               Fish          9068    2.206927\n",
      "10  Great Smoky Mountains             Mammal         12309    2.995707\n",
      "11  Great Smoky Mountains  Nonvascular Plant         24857    6.049580\n",
      "12  Great Smoky Mountains            Reptile          5616    1.366796\n",
      "13  Great Smoky Mountains     Vascular Plant        318121   77.422801\n",
      "14            Yellowstone          Amphibian         19191    1.397134\n",
      "15            Yellowstone               Bird        119227    8.679905\n",
      "16            Yellowstone               Fish         30131    2.193582\n",
      "17            Yellowstone             Mammal         41907    3.050893\n",
      "18            Yellowstone  Nonvascular Plant         83021    6.044054\n",
      "19            Yellowstone            Reptile         19301    1.405142\n",
      "20            Yellowstone     Vascular Plant       1060820   77.229291\n",
      "21               Yosemite          Amphibian         11309    1.376580\n",
      "22               Yosemite               Bird         71296    8.678452\n",
      "23               Yosemite               Fish         18353    2.234005\n",
      "24               Yosemite             Mammal         24894    3.030203\n",
      "25               Yosemite  Nonvascular Plant         49783    6.059798\n",
      "26               Yosemite            Reptile         11335    1.379744\n",
      "27               Yosemite     Vascular Plant        634559   77.241217\n"
     ]
    }
   ],
   "source": [
    "observations_per_category_park = biodiversity.groupby(['park_name', 'category'])['observations'].sum().reset_index()\n",
    "observations_per_category_park = observations_per_category_park.sort_values(by=['park_name', 'category'])\n",
    "\n",
    "#calculate the total observations per park\n",
    "total_observations_park = observations_per_category_park.groupby('park_name')['observations'].sum()\n",
    "\n",
    "#map the total observations to each row and calculate the percentage\n",
    "observations_per_category_park['percentage'] = (\n",
    "    observations_per_category_park['observations'] / \n",
    "    observations_per_category_park['park_name'].map(total_observations_park) * 100)\n",
    "\n",
    "print(observations_per_category_park)"
   ]
  },
  {
   "cell_type": "code",
   "execution_count": 54,
   "id": "36ae1217-2c59-40bf-85bd-4c0718e49e50",
   "metadata": {},
   "outputs": [
    {
     "data": {
      "image/png": "[encoded data removed]",
      "text/plain": [
       "<Figure size 1000x700 with 1 Axes>"
      ]
     },
     "metadata": {},
     "output_type": "display_data"
    }
   ],
   "source": [
    "#define parameters\n",
    "barHeight = 0.2\n",
    "r = np.arange(7)  # Positions for the first set of bars\n",
    "r2 = r + barHeight  # Positions for the second set of bars\n",
    "r3 = r2 + barHeight  # Positions for the third set of bars\n",
    "r4 = r3 + barHeight  # Positions for the fourth set of bars\n",
    "\n",
    "fig, ax = plt.subplots(figsize=(10, 7))\n",
    "\n",
    "ax.barh(r, observations_per_category_park[observations_per_category_park['park_name'] == 'Yosemite']['percentage'], color='blue', height=barHeight, edgecolor='white', label='Yosemite')\n",
    "ax.barh(r2, observations_per_category_park[observations_per_category_park['park_name'] == 'Yellowstone']['percentage'], color='green', height=barHeight, edgecolor='white', label='Yellowstone')\n",
    "ax.barh(r3, observations_per_category_park[observations_per_category_park['park_name'] == 'Great Smoky Mountains']['percentage'], color='purple', height=barHeight, edgecolor='white', label='Great Smoky Mountains')\n",
    "ax.barh(r4, observations_per_category_park[observations_per_category_park['park_name'] == 'Bryce']['percentage'], color='orange', height=barHeight, edgecolor='white', label='Bryce')\n",
    "\n",
    "ax.set_yticks(r + 1.5 * barHeight)\n",
    "ax.set_yticklabels(['Amphibian', 'Bird', 'Fish', 'Mammal', 'Nonvascular Plant', 'Reptile', 'Vascular Plant'])\n",
    "ax.set_xticks(np.arange(0, 101, 10))\n",
    "ax.set_xticklabels([f'{i}%' for i in range(0, 101, 10)])\n",
    "ax.set_xlabel('Percentage (%)')\n",
    "\n",
    "ax.set_title('Distribution of Observations in Each Park per Category, in %')\n",
    "ax.legend(loc='best', bbox_to_anchor=(1, 1), title='National Park', reverse=True)\n",
    "\n",
    "plt.show()"
   ]
  },
  {
   "cell_type": "markdown",
   "id": "1260344c-dee0-4ca8-99e7-1a6be6cd6e11",
   "metadata": {},
   "source": [
    "The graph speaks for itself: it's very strange to see almost the same proportions of observations between the parks for each category."
   ]
  },
  {
   "cell_type": "markdown",
   "id": "561ed23f",
   "metadata": {},
   "source": [
    "## 4. Conclusion"
   ]
  },
  {
   "cell_type": "markdown",
   "id": "f2781c0b-d34e-4238-aba4-63945b623c5c",
   "metadata": {},
   "source": [
    "In this work we investigated biodiversity in 4 national parks and completed all our objectives:\n",
    "\n",
    "- We explored the structure of data and its specifics. We looked at the structure of the two datasets: a file called 'species' with 4 columns and 5824 rows contains information about the different species, which categories they belong to, what scientific names and common names they have, and their conservation status; and another file called 'observations' with 3 columns and 23296 rows contains information about the number of different scientific names observed in the four national parks (Bryce, Great Smoky Mountains, Yellowstone and Yosemite). We found that some scientfic names have more than 1 row in the 'species' dataframe which we tried to explain with a hypothesis of absence of a 'time' variable. With that being said we reorganized the data and merged them into one dataframe called biodiversity.\n",
    "\n",
    "- We analyzed the biodiversity represented in the data by counting the number of species and observations in different categories and comparing the distribution with biodiversity information at global level (approximate number of species known to science). We found that the distributions are very similar: vascular plants make up the major part of the world's species diversity (>75%), and the share of each of the other categories is below 10%. Nevertheless, our data cover less than 5% of species known to science for each category (birds are the most represented at 4.4% and fish the least at 0.4%).\n",
    "\n",
    "- We compared the variety of observations in four national parks. Among the total number of observations, Yellowstone is the biggest park in our data (\\~1.4 million observations), this national park has also the most observations in each category (~300). The minimum number of observations of species per category in a single park was recorded in Bryce (9 observations of a vascular plant species) and Great Smoky Mountains (species in other categories with 11-19 observations).\n",
    "\n",
    "- We analyzed the conservation status of different species as well as it's correlation with the number of observations recorded. The most popular status is 'species of concern', there is relatively small number of species with statuses 'Threatened' or 'Endangered' and only one category (birds) has status 'in recovery'. The relationship between the number of observations and conservation status was demonstrated in the graph.\n",
    "\n",
    "- We found several “anomalies” in the data. The first oddity was that all species are present in all parks and that each species has the same number of rows compared between the parks. Moreover, the ratio of species to observations is nearly identical across all 6 categories, and the shares of observations for each category are nearly identical for all four parks. These \"anomalies\" may indicate the artificial nature of data. In other words, the data is fictitious and created for educational purposes only, and we just found inconsistencies in this educational material.\n",
    "\n",
    "It is also worth mentioning that common names of species were left out of the scope of this study. This could be a good objective for a future research project."
   ]
  },
  {
   "cell_type": "markdown",
   "id": "58874671-8cbf-4c56-adb3-2f047386ad03",
   "metadata": {},
   "source": [
    "## 5. Appendix"
   ]
  },
  {
   "cell_type": "markdown",
   "id": "3061af84-9707-4c54-b5a8-08e28fe27773",
   "metadata": {},
   "source": [
    "The following points illustrate the limitations of studying biodiversity based on the data provided and raise some methodological questions that go beyond the scope of the current project. "
   ]
  },
  {
   "cell_type": "markdown",
   "id": "d71f31a2-2894-48c0-afb7-b48828cf89c0",
   "metadata": {},
   "source": [
    "[1] The provided typology is not clear. The term 'category' doesn't rely on a common system of biological classification (taxonomy) which consists of species, genus, family, order, class, phylum, kingdom, and domain (more information here: https://en.wikipedia.org/wiki/Taxonomic_rank). The given typology seems also to be incomplete, since some categories that we could expect to study in the national parks are unfortunately not present in data: e.g. Fungi and Insects."
   ]
  },
  {
   "cell_type": "markdown",
   "id": "97178928",
   "metadata": {},
   "source": [
    "[2] The term 'species' doesn't have only one definition. The difficulty is that species may contain many individuals of different appearance (“variations”), which raises the question of how to distinguish between one species and another. There are many approaches to defining species: morphological, recognition-based, genetic, evolutionary, etc., which leads to different typologies and therefore to different numbers of known species and different numbers of subspecies. More information about species concepts: https://en.wikipedia.org/wiki/Species."
   ]
  },
  {
   "cell_type": "markdown",
   "id": "ea583ac2-8400-4e8b-935c-18819a90f723",
   "metadata": {},
   "source": [
    "[3] There are many ways of counting observations, especially for plants, because different plant species and even different individuals of the same species can have varying morphologies, making it difficult to apply a single counting method universally. For this reason, comparing the numbers of  observations of different species involves a process of abstraction: we are simply comparing quantities that may have different “weights” in specific dimensions, e.g., several shrubs may fit within a couple of meters, while one grass-like plant may cover several hectares. This means that it is not possible to get a full picture of biodiversity simply by looking at frequencies of observations. There are a lot of scientific works about the difficulty of doing observations in biology and ecology, e.g.: \n",
    "- Elphick, Chris S. \"How you count counts: the importance of methods research in applied ecology.\" Journal of Applied Ecology 45.5 (2008): 1313-1320.\n",
    "- Walker, K. J., et al. \"Making plants count.\" British Wildlife 26.4 (2015): 243-250."
   ]
  },
  {
   "cell_type": "markdown",
   "id": "67297321-f7e2-4041-8ef9-252fbab905b8",
   "metadata": {},
   "source": [
    "[4] The provided typology of conservation statuses is also not clear. International Union for Conservation of Nature (IUCN) provides a different typology, where e.g. the term 'threatened' is a grouping of three categories: 'critically endangered', 'endangered', and 'vulnerable'. There are also different levels of studying conservation statuses (multi-country, national or regional) and unfortunately we do not have information about the level in the data provided. More information about conservation statuses: https://en.wikipedia.org/wiki/Conservation_status"
   ]
  },
  {
   "cell_type": "markdown",
   "id": "a5e3f000-01c8-4275-88e7-c88631dfcbdd",
   "metadata": {},
   "source": [
    "***d.gordok.***      **October 2024**"
   ]
  }
 ],
 "metadata": {
  "kernelspec": {
   "display_name": "Python 3 (ipykernel)",
   "language": "python",
   "name": "python3"
  },
  "language_info": {
   "codemirror_mode": {
    "name": "ipython",
    "version": 3
   },
   "file_extension": ".py",
   "mimetype": "text/x-python",
   "name": "python",
   "nbconvert_exporter": "python",
   "pygments_lexer": "ipython3",
   "version": "3.12.4"
  }
 },
 "nbformat": 4,
 "nbformat_minor": 5
}
